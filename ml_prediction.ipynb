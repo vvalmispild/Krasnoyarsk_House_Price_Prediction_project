{
 "cells": [
  {
   "cell_type": "markdown",
   "metadata": {},
   "source": [
    "## Krasnoyarsk real estate price prediction "
   ]
  },
  {
   "cell_type": "code",
   "execution_count": 1,
   "metadata": {},
   "outputs": [],
   "source": [
    "# Import Libraries\n",
    "import numpy as np\n",
    "import pandas as pd\n",
    "from time import time\n",
    "from tqdm.notebook import tqdm\n",
    "\n",
    "from sklearn.pipeline import Pipeline\n",
    "from sklearn.compose import ColumnTransformer\n",
    "from sklearn.base import clone\n",
    "\n",
    "from sklearn.preprocessing import MinMaxScaler, OneHotEncoder\n",
    "from sklearn.model_selection import train_test_split, GridSearchCV, cross_validate\n",
    "\n",
    "from sklearn.linear_model import LinearRegression, Ridge, Lasso\n",
    "from sklearn.neighbors import KNeighborsRegressor\n",
    "from sklearn.ensemble import RandomForestRegressor, GradientBoostingRegressor, ExtraTreesRegressor\n",
    "from sklearn.tree import DecisionTreeRegressor\n",
    "from sklearn import metrics\n",
    "\n",
    "import warnings \n",
    "import pickle"
   ]
  },
  {
   "cell_type": "code",
   "execution_count": 2,
   "metadata": {},
   "outputs": [],
   "source": [
    "# Loading the Data\n",
    "df = pd.read_csv(\"./flats_info_eda.csv\")"
   ]
  },
  {
   "cell_type": "code",
   "execution_count": 3,
   "metadata": {},
   "outputs": [
    {
     "data": {
      "text/html": [
       "<div>\n",
       "<style scoped>\n",
       "    .dataframe tbody tr th:only-of-type {\n",
       "        vertical-align: middle;\n",
       "    }\n",
       "\n",
       "    .dataframe tbody tr th {\n",
       "        vertical-align: top;\n",
       "    }\n",
       "\n",
       "    .dataframe thead th {\n",
       "        text-align: right;\n",
       "    }\n",
       "</style>\n",
       "<table border=\"1\" class=\"dataframe\">\n",
       "  <thead>\n",
       "    <tr style=\"text-align: right;\">\n",
       "      <th></th>\n",
       "      <th>flat_type</th>\n",
       "      <th>city_area</th>\n",
       "      <th>premises_area</th>\n",
       "      <th>floor</th>\n",
       "      <th>floor_tot</th>\n",
       "      <th>layout</th>\n",
       "      <th>status</th>\n",
       "      <th>price</th>\n",
       "    </tr>\n",
       "  </thead>\n",
       "  <tbody>\n",
       "    <tr>\n",
       "      <th>0</th>\n",
       "      <td>1_room_ap</td>\n",
       "      <td>Sovietskiy</td>\n",
       "      <td>29.7</td>\n",
       "      <td>1</td>\n",
       "      <td>9</td>\n",
       "      <td>new</td>\n",
       "      <td>finished</td>\n",
       "      <td>38837.209302</td>\n",
       "    </tr>\n",
       "    <tr>\n",
       "      <th>1</th>\n",
       "      <td>3_room_ap</td>\n",
       "      <td>Sovietskiy</td>\n",
       "      <td>64.1</td>\n",
       "      <td>2</td>\n",
       "      <td>9</td>\n",
       "      <td>new</td>\n",
       "      <td>finished</td>\n",
       "      <td>75581.395349</td>\n",
       "    </tr>\n",
       "    <tr>\n",
       "      <th>2</th>\n",
       "      <td>3_room_ap</td>\n",
       "      <td>Sverdlovsky</td>\n",
       "      <td>58.4</td>\n",
       "      <td>1</td>\n",
       "      <td>5</td>\n",
       "      <td>khrushchevka</td>\n",
       "      <td>finished</td>\n",
       "      <td>58023.255814</td>\n",
       "    </tr>\n",
       "    <tr>\n",
       "      <th>3</th>\n",
       "      <td>3_room_ap</td>\n",
       "      <td>Sverdlovsky</td>\n",
       "      <td>92.3</td>\n",
       "      <td>5</td>\n",
       "      <td>6</td>\n",
       "      <td>new</td>\n",
       "      <td>finished</td>\n",
       "      <td>144186.046512</td>\n",
       "    </tr>\n",
       "    <tr>\n",
       "      <th>4</th>\n",
       "      <td>2_room_ap</td>\n",
       "      <td>Oktyabrskiy</td>\n",
       "      <td>48.0</td>\n",
       "      <td>10</td>\n",
       "      <td>17</td>\n",
       "      <td>new</td>\n",
       "      <td>finished</td>\n",
       "      <td>50000.000000</td>\n",
       "    </tr>\n",
       "  </tbody>\n",
       "</table>\n",
       "</div>"
      ],
      "text/plain": [
       "   flat_type    city_area  premises_area  floor  floor_tot        layout  \\\n",
       "0  1_room_ap   Sovietskiy           29.7      1          9           new   \n",
       "1  3_room_ap   Sovietskiy           64.1      2          9           new   \n",
       "2  3_room_ap  Sverdlovsky           58.4      1          5  khrushchevka   \n",
       "3  3_room_ap  Sverdlovsky           92.3      5          6           new   \n",
       "4  2_room_ap  Oktyabrskiy           48.0     10         17           new   \n",
       "\n",
       "     status          price  \n",
       "0  finished   38837.209302  \n",
       "1  finished   75581.395349  \n",
       "2  finished   58023.255814  \n",
       "3  finished  144186.046512  \n",
       "4  finished   50000.000000  "
      ]
     },
     "execution_count": 3,
     "metadata": {},
     "output_type": "execute_result"
    }
   ],
   "source": [
    "df.head()"
   ]
  },
  {
   "cell_type": "code",
   "execution_count": 4,
   "metadata": {},
   "outputs": [
    {
     "data": {
      "text/plain": [
       "(2151, 8)"
      ]
     },
     "execution_count": 4,
     "metadata": {},
     "output_type": "execute_result"
    }
   ],
   "source": [
    "df.shape"
   ]
  },
  {
   "cell_type": "code",
   "execution_count": 5,
   "metadata": {},
   "outputs": [],
   "source": [
    "# Removing five-room apartments\n",
    "df = df[df.flat_type != '5_room_ap']"
   ]
  },
  {
   "cell_type": "code",
   "execution_count": 6,
   "metadata": {},
   "outputs": [],
   "source": [
    "# Selecting independent and dependent variables\n",
    "X = df.drop(\"price\", axis=1)\n",
    "y = df.price"
   ]
  },
  {
   "cell_type": "code",
   "execution_count": 7,
   "metadata": {},
   "outputs": [],
   "source": [
    "# Selecting independent and dependent variables\n",
    "X_train, X_test, y_train, y_test = train_test_split(X, y, train_size=0.8, \n",
    "                                                    test_size=0.2, random_state=42)"
   ]
  },
  {
   "cell_type": "code",
   "execution_count": 8,
   "metadata": {},
   "outputs": [],
   "source": [
    "# Select categorical columns\n",
    "categorical_cols = [cname for cname in X_train.columns if\n",
    "                    X_train[cname].nunique() < 20 and \n",
    "                    X_train[cname].dtype == \"object\"]\n",
    "# Select numerical columns\n",
    "numerical_cols = [cname for cname in X_train.columns if \n",
    "                  X_train[cname].dtype in ['int64', 'float64']]\n",
    "\n",
    "my_cols = categorical_cols + numerical_cols\n",
    "X_train = X_train[my_cols].copy()\n",
    "X_test = X_test[my_cols].copy()"
   ]
  },
  {
   "cell_type": "code",
   "execution_count": 9,
   "metadata": {},
   "outputs": [],
   "source": [
    "# Function which preprocess input numerical and categorical data + take ml model, and return ready to use pipeline.\n",
    "def preprocessing(model):    \n",
    "    # Preprocessing for numerical data\n",
    "    numerical_transformer = Pipeline(steps=[\n",
    "    ('MinMaxScaler', MinMaxScaler())])\n",
    "    \n",
    "    # Preprocessing for categorical data\n",
    "    categorical_transformer = Pipeline(steps=[\n",
    "    ('onehot', OneHotEncoder(handle_unknown='ignore'))])\n",
    "\n",
    "    preprocessor = ColumnTransformer(\n",
    "    transformers=[('num', numerical_transformer, numerical_cols),\n",
    "    ('cat', categorical_transformer, categorical_cols)])\n",
    "\n",
    "    # Pipeline\n",
    "    pipe = Pipeline(steps=[('preprocessor', clone(preprocessor)),\n",
    "                      ('model', clone(model))])\n",
    "    return pipe "
   ]
  },
  {
   "cell_type": "code",
   "execution_count": 10,
   "metadata": {},
   "outputs": [],
   "source": [
    "# Dictionary with considered ml models\n",
    "model_dict = {'Linear Regression' : LinearRegression(),\n",
    "              'Lasso' : Lasso(max_iter=10000),\n",
    "              'Ridge' : Ridge(),\n",
    "              'Decision Tree' : DecisionTreeRegressor(),\n",
    "              'Random Forest' : RandomForestRegressor(),\n",
    "              'Extra Trees' : ExtraTreesRegressor(),\n",
    "              'KNeighbors' : KNeighborsRegressor(),\n",
    "              'Gradient Boosting' : GradientBoostingRegressor(),\n",
    "              }"
   ]
  },
  {
   "cell_type": "code",
   "execution_count": 11,
   "metadata": {},
   "outputs": [],
   "source": [
    "# Cross_validation function to compare ml models performance\n",
    "def model_tester(model_dict, X, y, cv=5):  \n",
    "    scoring = []\n",
    "    for name, model in tqdm(model_dict.items()):\n",
    "        pipe = preprocessing(model)\n",
    "        start = time() \n",
    "        np.random.seed(42)\n",
    "        score = cross_validate(pipe, X, y, cv=cv, scoring=('neg_mean_absolute_error', 'neg_root_mean_squared_error', \n",
    "                                                           'r2'), return_train_score=True)\n",
    "        train_time = time() - start\n",
    "        scoring.append([train_time, (-1)*np.mean(score['test_neg_mean_absolute_error']),  \n",
    "                (-1)*np.mean(score['test_neg_root_mean_squared_error']), np.mean(score['test_r2'])])\n",
    "\n",
    "    cv_score = pd.DataFrame(data=scoring)\n",
    "    cv_score.columns =['cv_time',  'MAE', 'RMSE', 'R2_score'] \n",
    "    cv_score.index = list(model_dict.keys())\n",
    "    return cv_score"
   ]
  },
  {
   "cell_type": "code",
   "execution_count": 12,
   "metadata": {},
   "outputs": [
    {
     "data": {
      "application/vnd.jupyter.widget-view+json": {
       "model_id": "2da5e33d91fb4d898a2a1e6bc399f5a7",
       "version_major": 2,
       "version_minor": 0
      },
      "text/plain": [
       "  0%|          | 0/8 [00:00<?, ?it/s]"
      ]
     },
     "metadata": {},
     "output_type": "display_data"
    },
    {
     "data": {
      "text/html": [
       "<div>\n",
       "<style scoped>\n",
       "    .dataframe tbody tr th:only-of-type {\n",
       "        vertical-align: middle;\n",
       "    }\n",
       "\n",
       "    .dataframe tbody tr th {\n",
       "        vertical-align: top;\n",
       "    }\n",
       "\n",
       "    .dataframe thead th {\n",
       "        text-align: right;\n",
       "    }\n",
       "</style>\n",
       "<table border=\"1\" class=\"dataframe\">\n",
       "  <thead>\n",
       "    <tr style=\"text-align: right;\">\n",
       "      <th></th>\n",
       "      <th>cv_time</th>\n",
       "      <th>MAE</th>\n",
       "      <th>RMSE</th>\n",
       "      <th>R2_score</th>\n",
       "    </tr>\n",
       "  </thead>\n",
       "  <tbody>\n",
       "    <tr>\n",
       "      <th>Linear Regression</th>\n",
       "      <td>0.229705</td>\n",
       "      <td>7863.315917</td>\n",
       "      <td>10878.332076</td>\n",
       "      <td>0.820269</td>\n",
       "    </tr>\n",
       "    <tr>\n",
       "      <th>Lasso</th>\n",
       "      <td>3.934423</td>\n",
       "      <td>7861.305536</td>\n",
       "      <td>10877.611143</td>\n",
       "      <td>0.820297</td>\n",
       "    </tr>\n",
       "    <tr>\n",
       "      <th>Ridge</th>\n",
       "      <td>0.155491</td>\n",
       "      <td>7872.369683</td>\n",
       "      <td>10951.005646</td>\n",
       "      <td>0.818064</td>\n",
       "    </tr>\n",
       "    <tr>\n",
       "      <th>Decision Tree</th>\n",
       "      <td>0.217395</td>\n",
       "      <td>7643.876000</td>\n",
       "      <td>12484.294260</td>\n",
       "      <td>0.763175</td>\n",
       "    </tr>\n",
       "    <tr>\n",
       "      <th>Random Forest</th>\n",
       "      <td>7.369419</td>\n",
       "      <td>6121.675850</td>\n",
       "      <td>9373.200483</td>\n",
       "      <td>0.866812</td>\n",
       "    </tr>\n",
       "    <tr>\n",
       "      <th>Extra Trees</th>\n",
       "      <td>7.553320</td>\n",
       "      <td>5674.019587</td>\n",
       "      <td>9176.155247</td>\n",
       "      <td>0.872127</td>\n",
       "    </tr>\n",
       "    <tr>\n",
       "      <th>KNeighbors</th>\n",
       "      <td>0.627494</td>\n",
       "      <td>8385.328874</td>\n",
       "      <td>12293.208513</td>\n",
       "      <td>0.771536</td>\n",
       "    </tr>\n",
       "    <tr>\n",
       "      <th>Gradient Boosting</th>\n",
       "      <td>0.776577</td>\n",
       "      <td>6656.799514</td>\n",
       "      <td>9495.487859</td>\n",
       "      <td>0.862847</td>\n",
       "    </tr>\n",
       "  </tbody>\n",
       "</table>\n",
       "</div>"
      ],
      "text/plain": [
       "                    cv_time          MAE          RMSE  R2_score\n",
       "Linear Regression  0.229705  7863.315917  10878.332076  0.820269\n",
       "Lasso              3.934423  7861.305536  10877.611143  0.820297\n",
       "Ridge              0.155491  7872.369683  10951.005646  0.818064\n",
       "Decision Tree      0.217395  7643.876000  12484.294260  0.763175\n",
       "Random Forest      7.369419  6121.675850   9373.200483  0.866812\n",
       "Extra Trees        7.553320  5674.019587   9176.155247  0.872127\n",
       "KNeighbors         0.627494  8385.328874  12293.208513  0.771536\n",
       "Gradient Boosting  0.776577  6656.799514   9495.487859  0.862847"
      ]
     },
     "execution_count": 12,
     "metadata": {},
     "output_type": "execute_result"
    }
   ],
   "source": [
    "model_tester(model_dict, X_train, y_train, cv=5)"
   ]
  },
  {
   "cell_type": "markdown",
   "metadata": {},
   "source": [
    "For further consideration, I will select three models (Random Forest, Extra Trees, Gradient Boosting) that have shown the best results in cross-validation."
   ]
  },
  {
   "cell_type": "markdown",
   "metadata": {},
   "source": [
    "## Hyperparameter tuning"
   ]
  },
  {
   "cell_type": "markdown",
   "metadata": {},
   "source": [
    "### Random Forest"
   ]
  },
  {
   "cell_type": "code",
   "execution_count": 13,
   "metadata": {},
   "outputs": [],
   "source": [
    "# Random Forest Regressor\n",
    "pipe_RandomForest = preprocessing(RandomForestRegressor())\n",
    "param_grid = {'model__n_estimators': [100, 600, 800], \n",
    "             'model__max_depth': [None, 8], \n",
    "             'model__min_samples_split': [2, 4, 6]}\n",
    "\n",
    "grid_search_RF = GridSearchCV(pipe_RandomForest, param_grid, cv=5, return_train_score = True)"
   ]
  },
  {
   "cell_type": "code",
   "execution_count": 14,
   "metadata": {},
   "outputs": [],
   "source": [
    "grid_search_RF.fit(X_train, y_train);"
   ]
  },
  {
   "cell_type": "code",
   "execution_count": 15,
   "metadata": {},
   "outputs": [
    {
     "name": "stdout",
     "output_type": "stream",
     "text": [
      "Tuned hyperparameters for RandomForestRegressor: \n",
      " {'model__max_depth': None, 'model__min_samples_split': 2, 'model__n_estimators': 800}\n"
     ]
    }
   ],
   "source": [
    "print(\"Tuned hyperparameters for RandomForestRegressor: \\n\", grid_search_RF.best_params_)"
   ]
  },
  {
   "cell_type": "code",
   "execution_count": 32,
   "metadata": {},
   "outputs": [
    {
     "data": {
      "application/vnd.jupyter.widget-view+json": {
       "model_id": "7479cff16ad646abbad3f05290bcd325",
       "version_major": 2,
       "version_minor": 0
      },
      "text/plain": [
       "  0%|          | 0/1 [00:00<?, ?it/s]"
      ]
     },
     "metadata": {},
     "output_type": "display_data"
    },
    {
     "data": {
      "text/html": [
       "<div>\n",
       "<style scoped>\n",
       "    .dataframe tbody tr th:only-of-type {\n",
       "        vertical-align: middle;\n",
       "    }\n",
       "\n",
       "    .dataframe tbody tr th {\n",
       "        vertical-align: top;\n",
       "    }\n",
       "\n",
       "    .dataframe thead th {\n",
       "        text-align: right;\n",
       "    }\n",
       "</style>\n",
       "<table border=\"1\" class=\"dataframe\">\n",
       "  <thead>\n",
       "    <tr style=\"text-align: right;\">\n",
       "      <th></th>\n",
       "      <th>cv_time</th>\n",
       "      <th>MAE</th>\n",
       "      <th>RMSE</th>\n",
       "      <th>R2_score</th>\n",
       "    </tr>\n",
       "  </thead>\n",
       "  <tbody>\n",
       "    <tr>\n",
       "      <th>Random Forest</th>\n",
       "      <td>61.825087</td>\n",
       "      <td>6102.989055</td>\n",
       "      <td>9379.226946</td>\n",
       "      <td>0.866636</td>\n",
       "    </tr>\n",
       "  </tbody>\n",
       "</table>\n",
       "</div>"
      ],
      "text/plain": [
       "                 cv_time          MAE         RMSE  R2_score\n",
       "Random Forest  61.825087  6102.989055  9379.226946  0.866636"
      ]
     },
     "execution_count": 32,
     "metadata": {},
     "output_type": "execute_result"
    }
   ],
   "source": [
    "# Run the RandomForestRegressor model with tuned hyperparameters\n",
    "tuned_RF_model_dict = {'Random Forest' : RandomForestRegressor(max_depth= None, min_samples_split=2, \n",
    "                                                      n_estimators = 800)}\n",
    "\n",
    "model_tester(tuned_RF_model_dict, X_train, y_train, cv=5)"
   ]
  },
  {
   "cell_type": "markdown",
   "metadata": {},
   "source": [
    "### Extra Trees"
   ]
  },
  {
   "cell_type": "code",
   "execution_count": 17,
   "metadata": {},
   "outputs": [],
   "source": [
    "# Extra Trees Regressor\n",
    "pipe_ExtraTrees = preprocessing(ExtraTreesRegressor())\n",
    "param_grid = {'model__n_estimators': [100, 400, 800], \n",
    "             'model__max_depth': [None, 10], \n",
    "             'model__min_samples_split': [2, 4, 6, 8]}\n",
    "\n",
    "grid_search_ET = GridSearchCV(pipe_ExtraTrees, param_grid, cv=5, return_train_score = True)"
   ]
  },
  {
   "cell_type": "code",
   "execution_count": 18,
   "metadata": {},
   "outputs": [],
   "source": [
    "grid_search_ET.fit(X_train, y_train);"
   ]
  },
  {
   "cell_type": "code",
   "execution_count": 19,
   "metadata": {},
   "outputs": [
    {
     "name": "stdout",
     "output_type": "stream",
     "text": [
      "Tuned hyperparameters for ExtraTreesRegressor: \n",
      " {'model__max_depth': None, 'model__min_samples_split': 6, 'model__n_estimators': 800}\n"
     ]
    }
   ],
   "source": [
    "print(\"Tuned hyperparameters for ExtraTreesRegressor: \\n\", grid_search_ET.best_params_)"
   ]
  },
  {
   "cell_type": "code",
   "execution_count": 20,
   "metadata": {},
   "outputs": [
    {
     "data": {
      "application/vnd.jupyter.widget-view+json": {
       "model_id": "da8c3a994b65403c9a6055de80a6f68a",
       "version_major": 2,
       "version_minor": 0
      },
      "text/plain": [
       "  0%|          | 0/1 [00:00<?, ?it/s]"
      ]
     },
     "metadata": {},
     "output_type": "display_data"
    },
    {
     "data": {
      "text/html": [
       "<div>\n",
       "<style scoped>\n",
       "    .dataframe tbody tr th:only-of-type {\n",
       "        vertical-align: middle;\n",
       "    }\n",
       "\n",
       "    .dataframe tbody tr th {\n",
       "        vertical-align: top;\n",
       "    }\n",
       "\n",
       "    .dataframe thead th {\n",
       "        text-align: right;\n",
       "    }\n",
       "</style>\n",
       "<table border=\"1\" class=\"dataframe\">\n",
       "  <thead>\n",
       "    <tr style=\"text-align: right;\">\n",
       "      <th></th>\n",
       "      <th>cv_time</th>\n",
       "      <th>MAE</th>\n",
       "      <th>RMSE</th>\n",
       "      <th>R2_score</th>\n",
       "    </tr>\n",
       "  </thead>\n",
       "  <tbody>\n",
       "    <tr>\n",
       "      <th>Extra Trees</th>\n",
       "      <td>47.575261</td>\n",
       "      <td>5822.513986</td>\n",
       "      <td>9168.622642</td>\n",
       "      <td>0.872288</td>\n",
       "    </tr>\n",
       "  </tbody>\n",
       "</table>\n",
       "</div>"
      ],
      "text/plain": [
       "               cv_time          MAE         RMSE  R2_score\n",
       "Extra Trees  47.575261  5822.513986  9168.622642  0.872288"
      ]
     },
     "execution_count": 20,
     "metadata": {},
     "output_type": "execute_result"
    }
   ],
   "source": [
    "# Run the ExtraTreesRegressor model with tuned hyperparameters\n",
    "tuned_ET_model_dict = {'Extra Trees' : ExtraTreesRegressor(max_depth= None, min_samples_split=6, \n",
    "                                                      n_estimators = 800)}\n",
    "\n",
    "model_tester(tuned_ET_model_dict, X_train, y_train, cv=5)"
   ]
  },
  {
   "cell_type": "markdown",
   "metadata": {},
   "source": [
    "### Gradient Boosting"
   ]
  },
  {
   "cell_type": "code",
   "execution_count": 21,
   "metadata": {},
   "outputs": [],
   "source": [
    "# Gradient Boosting Regressor\n",
    "pipe_GradientBoosting = preprocessing(GradientBoostingRegressor())\n",
    "param_grid = { \n",
    "    'model__n_estimators': [90, 150, 300],\n",
    "    'model__max_depth': [None, 5, 10],\n",
    "    'model__min_samples_split': [4, 6, 8] }\n",
    "\n",
    "grid_search_GB = GridSearchCV(pipe_GradientBoosting, param_grid, cv=5, return_train_score = True)"
   ]
  },
  {
   "cell_type": "code",
   "execution_count": 22,
   "metadata": {},
   "outputs": [],
   "source": [
    "grid_search_GB.fit(X_train, y_train);"
   ]
  },
  {
   "cell_type": "code",
   "execution_count": 23,
   "metadata": {},
   "outputs": [
    {
     "name": "stdout",
     "output_type": "stream",
     "text": [
      "Tuned hyperparameters for GradientBoostingRegressor: \n",
      " {'model__max_depth': 5, 'model__min_samples_split': 6, 'model__n_estimators': 150}\n"
     ]
    }
   ],
   "source": [
    "print(\"Tuned hyperparameters for GradientBoostingRegressor: \\n\", grid_search_GB.best_params_)"
   ]
  },
  {
   "cell_type": "code",
   "execution_count": 24,
   "metadata": {},
   "outputs": [
    {
     "data": {
      "application/vnd.jupyter.widget-view+json": {
       "model_id": "bafe7020e50e4b24ad6d09acb8f71cc4",
       "version_major": 2,
       "version_minor": 0
      },
      "text/plain": [
       "  0%|          | 0/1 [00:00<?, ?it/s]"
      ]
     },
     "metadata": {},
     "output_type": "display_data"
    },
    {
     "data": {
      "text/html": [
       "<div>\n",
       "<style scoped>\n",
       "    .dataframe tbody tr th:only-of-type {\n",
       "        vertical-align: middle;\n",
       "    }\n",
       "\n",
       "    .dataframe tbody tr th {\n",
       "        vertical-align: top;\n",
       "    }\n",
       "\n",
       "    .dataframe thead th {\n",
       "        text-align: right;\n",
       "    }\n",
       "</style>\n",
       "<table border=\"1\" class=\"dataframe\">\n",
       "  <thead>\n",
       "    <tr style=\"text-align: right;\">\n",
       "      <th></th>\n",
       "      <th>cv_time</th>\n",
       "      <th>MAE</th>\n",
       "      <th>RMSE</th>\n",
       "      <th>R2_score</th>\n",
       "    </tr>\n",
       "  </thead>\n",
       "  <tbody>\n",
       "    <tr>\n",
       "      <th>Gradient Boosting</th>\n",
       "      <td>2.003</td>\n",
       "      <td>6077.787961</td>\n",
       "      <td>9258.82021</td>\n",
       "      <td>0.86965</td>\n",
       "    </tr>\n",
       "  </tbody>\n",
       "</table>\n",
       "</div>"
      ],
      "text/plain": [
       "                   cv_time          MAE        RMSE  R2_score\n",
       "Gradient Boosting    2.003  6077.787961  9258.82021   0.86965"
      ]
     },
     "execution_count": 24,
     "metadata": {},
     "output_type": "execute_result"
    }
   ],
   "source": [
    "# Run the GradientBoostingRegressor model with tuned hyperparameters\n",
    "tuned_GB_model_dict = {'Gradient Boosting' : GradientBoostingRegressor(max_depth= 5, min_samples_split=6, \n",
    "                                                      n_estimators = 150)}\n",
    "\n",
    "model_tester(tuned_GB_model_dict, X_train, y_train, cv=5)"
   ]
  },
  {
   "cell_type": "markdown",
   "metadata": {},
   "source": [
    "ExtraTreesRegressor showed the best performance after hyperparameter tuning."
   ]
  },
  {
   "cell_type": "markdown",
   "metadata": {},
   "source": [
    "## Evaluate models on test data"
   ]
  },
  {
   "cell_type": "code",
   "execution_count": 25,
   "metadata": {},
   "outputs": [],
   "source": [
    "def best_model_test(grid_search_input, X_test, y_test): \n",
    "    \n",
    "    best_model = grid_search_input.best_estimator_\n",
    "    y_pred = best_model.predict(X_test)\n",
    "    # metrics\n",
    "    MAE = metrics.mean_absolute_error(y_test, y_pred)\n",
    "    RMSE = np.sqrt(metrics.mean_squared_error(y_test, y_pred))\n",
    "    R2 = metrics.r2_score(y_test, y_pred)\n",
    "    score = pd.DataFrame(data=[MAE, RMSE, R2]).T\n",
    "    # name of columns \n",
    "    score.columns =['MAE', 'RMSE', 'R2_score'] \n",
    "    # index name\n",
    "    model_name = best_model.named_steps['model'].__class__.__name__\n",
    "    score.index = [model_name] \n",
    "\n",
    "    return score"
   ]
  },
  {
   "cell_type": "code",
   "execution_count": 26,
   "metadata": {},
   "outputs": [
    {
     "data": {
      "text/html": [
       "<div>\n",
       "<style scoped>\n",
       "    .dataframe tbody tr th:only-of-type {\n",
       "        vertical-align: middle;\n",
       "    }\n",
       "\n",
       "    .dataframe tbody tr th {\n",
       "        vertical-align: top;\n",
       "    }\n",
       "\n",
       "    .dataframe thead th {\n",
       "        text-align: right;\n",
       "    }\n",
       "</style>\n",
       "<table border=\"1\" class=\"dataframe\">\n",
       "  <thead>\n",
       "    <tr style=\"text-align: right;\">\n",
       "      <th></th>\n",
       "      <th>MAE</th>\n",
       "      <th>RMSE</th>\n",
       "      <th>R2_score</th>\n",
       "    </tr>\n",
       "  </thead>\n",
       "  <tbody>\n",
       "    <tr>\n",
       "      <th>RandomForestRegressor</th>\n",
       "      <td>6241.359178</td>\n",
       "      <td>10772.981109</td>\n",
       "      <td>0.837661</td>\n",
       "    </tr>\n",
       "  </tbody>\n",
       "</table>\n",
       "</div>"
      ],
      "text/plain": [
       "                               MAE          RMSE  R2_score\n",
       "RandomForestRegressor  6241.359178  10772.981109  0.837661"
      ]
     },
     "execution_count": 26,
     "metadata": {},
     "output_type": "execute_result"
    }
   ],
   "source": [
    "best_model_test(grid_search_RF, X_test, y_test)"
   ]
  },
  {
   "cell_type": "code",
   "execution_count": 27,
   "metadata": {},
   "outputs": [
    {
     "data": {
      "text/html": [
       "<div>\n",
       "<style scoped>\n",
       "    .dataframe tbody tr th:only-of-type {\n",
       "        vertical-align: middle;\n",
       "    }\n",
       "\n",
       "    .dataframe tbody tr th {\n",
       "        vertical-align: top;\n",
       "    }\n",
       "\n",
       "    .dataframe thead th {\n",
       "        text-align: right;\n",
       "    }\n",
       "</style>\n",
       "<table border=\"1\" class=\"dataframe\">\n",
       "  <thead>\n",
       "    <tr style=\"text-align: right;\">\n",
       "      <th></th>\n",
       "      <th>MAE</th>\n",
       "      <th>RMSE</th>\n",
       "      <th>R2_score</th>\n",
       "    </tr>\n",
       "  </thead>\n",
       "  <tbody>\n",
       "    <tr>\n",
       "      <th>ExtraTreesRegressor</th>\n",
       "      <td>6071.568913</td>\n",
       "      <td>10533.244063</td>\n",
       "      <td>0.844806</td>\n",
       "    </tr>\n",
       "  </tbody>\n",
       "</table>\n",
       "</div>"
      ],
      "text/plain": [
       "                             MAE          RMSE  R2_score\n",
       "ExtraTreesRegressor  6071.568913  10533.244063  0.844806"
      ]
     },
     "execution_count": 27,
     "metadata": {},
     "output_type": "execute_result"
    }
   ],
   "source": [
    "best_model_test(grid_search_ET, X_test, y_test)"
   ]
  },
  {
   "cell_type": "code",
   "execution_count": 28,
   "metadata": {},
   "outputs": [
    {
     "data": {
      "text/html": [
       "<div>\n",
       "<style scoped>\n",
       "    .dataframe tbody tr th:only-of-type {\n",
       "        vertical-align: middle;\n",
       "    }\n",
       "\n",
       "    .dataframe tbody tr th {\n",
       "        vertical-align: top;\n",
       "    }\n",
       "\n",
       "    .dataframe thead th {\n",
       "        text-align: right;\n",
       "    }\n",
       "</style>\n",
       "<table border=\"1\" class=\"dataframe\">\n",
       "  <thead>\n",
       "    <tr style=\"text-align: right;\">\n",
       "      <th></th>\n",
       "      <th>MAE</th>\n",
       "      <th>RMSE</th>\n",
       "      <th>R2_score</th>\n",
       "    </tr>\n",
       "  </thead>\n",
       "  <tbody>\n",
       "    <tr>\n",
       "      <th>GradientBoostingRegressor</th>\n",
       "      <td>6248.750126</td>\n",
       "      <td>10191.067212</td>\n",
       "      <td>0.854725</td>\n",
       "    </tr>\n",
       "  </tbody>\n",
       "</table>\n",
       "</div>"
      ],
      "text/plain": [
       "                                   MAE          RMSE  R2_score\n",
       "GradientBoostingRegressor  6248.750126  10191.067212  0.854725"
      ]
     },
     "execution_count": 28,
     "metadata": {},
     "output_type": "execute_result"
    }
   ],
   "source": [
    "best_model_test(grid_search_GB, X_test, y_test)"
   ]
  },
  {
   "cell_type": "markdown",
   "metadata": {},
   "source": [
    "Although ExtraTreesRegressor showed better results in cross-validation and after hyperparameter tuning compared to others, for production, I choose the GradientBoostingRegressor because in two metrics(RMSE and R2_score) model showed beter result for test evaluation."
   ]
  },
  {
   "cell_type": "markdown",
   "metadata": {},
   "source": [
    "## Pickle the machine learning model"
   ]
  },
  {
   "cell_type": "markdown",
   "metadata": {},
   "source": [
    "Save the model for future production."
   ]
  },
  {
   "cell_type": "code",
   "execution_count": 29,
   "metadata": {},
   "outputs": [],
   "source": [
    "pickle.dump(grid_search_GB, open('model.p','wb'))\n",
    "model = pickle.load(open('model.p','rb'))"
   ]
  },
  {
   "cell_type": "code",
   "execution_count": 30,
   "metadata": {},
   "outputs": [
    {
     "data": {
      "text/plain": [
       "1160    56976.744186\n",
       "2020    77906.976744\n",
       "978     45348.837209\n",
       "759     27862.325581\n",
       "874     47790.697674\n",
       "Name: price, dtype: float64"
      ]
     },
     "execution_count": 30,
     "metadata": {},
     "output_type": "execute_result"
    }
   ],
   "source": [
    "y_test[:5]"
   ]
  },
  {
   "cell_type": "code",
   "execution_count": 31,
   "metadata": {},
   "outputs": [
    {
     "data": {
      "text/plain": [
       "array([62086.88300826, 81723.02855686, 48771.3470024 , 27142.28855964,\n",
       "       45463.78074384])"
      ]
     },
     "execution_count": 31,
     "metadata": {},
     "output_type": "execute_result"
    }
   ],
   "source": [
    "model.predict(X_test[:5])"
   ]
  },
  {
   "cell_type": "code",
   "execution_count": null,
   "metadata": {},
   "outputs": [],
   "source": []
  }
 ],
 "metadata": {
  "kernelspec": {
   "display_name": "Python 3 (ipykernel)",
   "language": "python",
   "name": "python3"
  },
  "language_info": {
   "codemirror_mode": {
    "name": "ipython",
    "version": 3
   },
   "file_extension": ".py",
   "mimetype": "text/x-python",
   "name": "python",
   "nbconvert_exporter": "python",
   "pygments_lexer": "ipython3",
   "version": "3.9.13"
  }
 },
 "nbformat": 4,
 "nbformat_minor": 4
}
