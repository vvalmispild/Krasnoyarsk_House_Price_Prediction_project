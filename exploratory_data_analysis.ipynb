{
 "cells": [
  {
   "cell_type": "markdown",
   "metadata": {},
   "source": [
    "# Exploratory Data Analysis (Krasnoyarsk Real Estate project)"
   ]
  },
  {
   "cell_type": "markdown",
   "metadata": {},
   "source": [
    "<a id=\"0\"></a> <br>\n",
    "## Table of Contents  \n",
    "1. [Introduction](#1)     \n",
    "    1. [Problem Definition](#2) \n",
    "    1. [Data description](#3)\n",
    "1. [Data Understanding](#4)\n",
    "1. [Data Preparation](#5)    \n",
    "1. [Feature Understanding and Feature Relationships](#6)  \n",
    "    1. [Correlation between premises_area, floor, floor_tot, price](#7)        \n",
    "    1. [Flat type](#8)      \n",
    "    1. [City area](#9)    \n",
    "    1. [Premises area](#10)  \n",
    "    1. [Floor](#11)     \n",
    "    1. [Layout](#12)     \n",
    "    1. [Construction status](#13)     \n",
    "1. [Apartments under construction](#14) \n",
    "    1. [City areas](#15)     \n",
    "    1. [Flat types](#16)            \n",
    "    1. [Best prices for 2-room apartment](#17) \n",
    "    1. [2-room apartment distribution in different city arias](#18)     \n",
    "1. [Summary](#19)\n",
    "1. [References](#20)"
   ]
  },
  {
   "cell_type": "markdown",
   "metadata": {},
   "source": [
    "## 1. Introduction <a id=\"1\"></a>\n",
    "The real estate market is an important aspect of any city's economy, and Krasnoyarsk city is no exception. With a growing population and a thriving economy, the city has seen an increase in the number of real estate properties being bought and sold in recent years. As a result, it is crucial to have a clear understanding of the real estate market in Krasnoyarsk city."
   ]
  },
  {
   "cell_type": "markdown",
   "metadata": {},
   "source": [
    "### A. Problem Definition <a id=\"2\"></a>\n",
    "\n",
    "The problem addressed in this exploratory data analysis project is to understand the distribution of flats with different parameters in Krasnoyarsk city, with the goal of gaining insights into the real estate market in the city. The project aims to compare various parameters of flats such as size, location, number of rooms, price, and to identify patterns and trends in their distribution across different areas of the city. By analyzing these patterns and trends, the project seeks to provide valuable information that can assist real estate investors, property developers, and other stakeholders in making informed decisions regarding the purchase, sale, and development of real estate properties in Krasnoyarsk. "
   ]
  },
  {
   "cell_type": "markdown",
   "metadata": {},
   "source": [
    "### B. Data description <a id=\"3\"></a>\n",
    "\n",
    "To gain insights into the real estate market, we have collected a data set containing information about the sale of apartments in Krasnoyarsk. The data set includes various parameters such as the type of apartment - \"flat_type\", the district of the apartment (square meters) - \"city_area\", the apartment area - \"premises_area\", the floor of the apartment - \"floor\", total number of storeys of the building - \"floor_tot\", the layout - \"layout\", the building construction status - \"status\", and the price (euro) - \"price\". <br>\n",
    "<br>\n",
    "The data was taken from a site for the sale of real estate: https://arevera.ru/apartments/ <br>\n",
    "Parsing code: https://github.com/vvalmispild/Krasnoyarsk_Real_Estate_project/blob/main/scraper_real_estate.ipynb <br>\n",
    "Data cleaning code: https://github.com/vvalmispild/Krasnoyarsk_Real_Estate_project/blob/main/data_cleaning.ipynb\n"
   ]
  },
  {
   "cell_type": "code",
   "execution_count": null,
   "metadata": {},
   "outputs": [],
   "source": [
    "# Import Libraries\n",
    "import numpy as np\n",
    "import pandas as pd\n",
    "import matplotlib.pylab as plt\n",
    "plt.style.use('ggplot')\n",
    "import seaborn as sns\n",
    "import plotly.express as px\n",
    "import plotly.graph_objs as go\n",
    "import plotly.figure_factory as ff"
   ]
  },
  {
   "cell_type": "code",
   "execution_count": null,
   "metadata": {},
   "outputs": [],
   "source": [
    "# Loading the data\n",
    "df = pd.read_csv(\"./flats_info_cleaned.csv\", delimiter=',')"
   ]
  },
  {
   "cell_type": "markdown",
   "metadata": {},
   "source": [
    "## 2. Data Understanding <a id=\"4\"></a>"
   ]
  },
  {
   "cell_type": "code",
   "execution_count": null,
   "metadata": {},
   "outputs": [],
   "source": [
    "# Structure of the dataset\n",
    "df.head()"
   ]
  },
  {
   "cell_type": "code",
   "execution_count": null,
   "metadata": {},
   "outputs": [],
   "source": [
    "df.info()"
   ]
  },
  {
   "cell_type": "markdown",
   "metadata": {},
   "source": [
    "Data dosn't have non-null values. The data types of each column match the actual data and already prepared for analysis."
   ]
  },
  {
   "cell_type": "code",
   "execution_count": null,
   "metadata": {},
   "outputs": [],
   "source": [
    "# Descriptive statistics of numerical data\n",
    "df.describe()"
   ]
  },
  {
   "cell_type": "code",
   "execution_count": null,
   "metadata": {},
   "outputs": [],
   "source": [
    "# Scatter plot matrix of numerical data\n",
    "df_scatter = sns.set(rc={\"figure.dpi\":200})\n",
    "df_scatter = sns.set(font_scale=1.6)\n",
    "df_scatter = sns.set_style(\"ticks\")\n",
    "df_scatter = sns.pairplot(df, vars=df._get_numeric_data(), \\\n",
    "                          diag_kind = 'hist', corner='True', palette='colorblind', \\\n",
    "                          plot_kws={\"s\": 40}, diag_kws={'bins':20}, aspect=15/13)\n",
    "df_scatter.fig.suptitle(\"Scatter plot of numeric data\", fontsize=20)\n",
    "plt.show()"
   ]
  },
  {
   "cell_type": "markdown",
   "metadata": {},
   "source": [
    "- The pairplot displays pairwise relationships between premises_area, floor,\tfloor_tot and price, and includes histograms along the diagonal to show the distribution of each variable. <br>\n",
    "- The scatter plot floor_tot vs floor has some data lower diagonal. This indicates that there are two rows in our dataframe where floor > floor_tot. This information should be cleared.<br>\n",
    "- The price compared to the premises_area has suspicious data in the lower part of about 100 m2. This is definitely too low a price for such a flat aria. It should be cleared also.<br>\n",
    "- One can see clear linear dependence of price vs premises area. <br>\n",
    "- The price is distributed mainly up to 200k. Therefore, we need to know data outliers by price."
   ]
  },
  {
   "cell_type": "markdown",
   "metadata": {},
   "source": [
    "## 3. Data Preparation <a id=\"5\"></a>"
   ]
  },
  {
   "cell_type": "code",
   "execution_count": null,
   "metadata": {},
   "outputs": [],
   "source": [
    "# Box plot to check price outliers\n",
    "fig = go.Figure(data=[go.Box(x=df.price,\n",
    "            boxpoints='all',\n",
    "            jitter=0.4, # separation between points\n",
    "            pointpos=-1.8, # relative position of points wrt box  \n",
    "            marker_size=2.5, hovertemplate='Value: %{y:.2f}'\n",
    "              )] )\n",
    "\n",
    "fig.update_yaxes(visible=False)\n",
    "fig.update_xaxes(title_text=\"Price (euro)\")\n",
    "fig.update_layout(paper_bgcolor='#fafafa', width=1000,  height=400, title='Price')\n",
    "\n",
    "#fig.show(renderer=\"svg\")\n",
    "fig.show()"
   ]
  },
  {
   "cell_type": "markdown",
   "metadata": {},
   "source": [
    "The box plot displays the distribution of prices and any potential outliers, which are displayed as individual points. Median around 60k, min = 4.6k, max = 123k. Let's label data over 150k as outliers and not use it for further research."
   ]
  },
  {
   "cell_type": "code",
   "execution_count": null,
   "metadata": {},
   "outputs": [],
   "source": [
    "# Delete price outliers data \n",
    "df = df[df.price < 150000]"
   ]
  },
  {
   "cell_type": "code",
   "execution_count": null,
   "metadata": {},
   "outputs": [],
   "source": [
    "# Find suspicious data (price compared to the premises_area)\n",
    "df_outliers = df[(df.price < 15000) & (df.premises_area > 80)]\n",
    "df_outliers"
   ]
  },
  {
   "cell_type": "code",
   "execution_count": null,
   "metadata": {},
   "outputs": [],
   "source": [
    "# Delete suspicious data\n",
    "df = df.drop(df_outliers.index)"
   ]
  },
  {
   "cell_type": "code",
   "execution_count": null,
   "metadata": {},
   "outputs": [],
   "source": [
    "# Took only floor <= total floors\n",
    "df = df[df.floor <= df.floor_tot]"
   ]
  },
  {
   "cell_type": "code",
   "execution_count": null,
   "metadata": {},
   "outputs": [],
   "source": [
    "# Count of unique values in the \"flat_type\" for getting an idea of the distribution of different types of \n",
    "# apartments in the dataset\n",
    "df.flat_type.value_counts()"
   ]
  },
  {
   "cell_type": "code",
   "execution_count": null,
   "metadata": {},
   "outputs": [],
   "source": [
    "# Count of unique values in the \"city_area\"\n",
    "df.city_area.value_counts()"
   ]
  },
  {
   "cell_type": "code",
   "execution_count": null,
   "metadata": {},
   "outputs": [],
   "source": [
    "# Count of unique values in the \"layout\"\n",
    "df.layout.value_counts()"
   ]
  },
  {
   "cell_type": "code",
   "execution_count": null,
   "metadata": {},
   "outputs": [],
   "source": [
    "# Merge several groups: 'room_in_flat' and 'section'  into 'section' / '2-level', 'individual' into 'individual'. \n",
    "df['layout'] = df['layout'].apply(lambda x: x.replace('room_in_flat','section'))\n",
    "df['layout'] = df['layout'].apply(lambda x: x.replace('2-level','individual'))"
   ]
  },
  {
   "cell_type": "code",
   "execution_count": null,
   "metadata": {},
   "outputs": [],
   "source": [
    "# Count of unique values in the \"status\"\n",
    "df.status.value_counts()"
   ]
  },
  {
   "cell_type": "markdown",
   "metadata": {},
   "source": [
    "The data is well distributed and ready for further analysis."
   ]
  },
  {
   "cell_type": "markdown",
   "metadata": {},
   "source": [
    "## 4. Feature Understanding and Feature Relationships <a id=\"6\"></a>"
   ]
  },
  {
   "cell_type": "markdown",
   "metadata": {},
   "source": [
    "### A. Correlation between premises_area, floor, floor_tot, price <a id=\"7\"></a>"
   ]
  },
  {
   "cell_type": "markdown",
   "metadata": {},
   "source": [
    "The code below creates a heatmap to visualize the correlation between numeric variables in the DataFrame"
   ]
  },
  {
   "cell_type": "code",
   "execution_count": null,
   "metadata": {},
   "outputs": [],
   "source": [
    "# Checking the correlation between numerical values\n",
    "corr = df._get_numeric_data().corr()\n",
    "mask = np.triu(np.ones_like(corr, dtype=bool))\n",
    "df_mask = corr.mask(mask)\n",
    "font_colors = ['#1f77b4','black'] \n",
    "fig = ff.create_annotated_heatmap(z=df_mask.to_numpy().round(2), \n",
    "                                  x=df_mask.columns.tolist(),\n",
    "                                  y=df_mask.columns.tolist(),\n",
    "                                  colorscale=px.colors.sequential.YlOrRd,#YlGnBu,\n",
    "                                  showscale=True, ygap=1, xgap=1,\n",
    "                                  font_colors=font_colors\n",
    "                                 )\n",
    "fig.update_xaxes(side=\"bottom\")\n",
    "fig.update_layout(\n",
    "    title='Correlation Matrix', width=550, height=400,\n",
    "    xaxis_showgrid=False, yaxis_showgrid=False,\n",
    "    xaxis_zeroline=False, yaxis_zeroline=False,\n",
    "    yaxis_autorange='reversed',\n",
    "    template='plotly_white',\n",
    "    paper_bgcolor='#fafafa'\n",
    ")\n",
    "# Get rid of the NaN values from text \n",
    "for i in range(len(fig.layout.annotations)):\n",
    "    if fig.layout.annotations[i].text == 'nan':\n",
    "        fig.layout.annotations[i].text = \"\"\n",
    "\n",
    "fig.show(renderer=\"svg\")"
   ]
  },
  {
   "cell_type": "markdown",
   "metadata": {},
   "source": [
    "- The premises area has a big positive correlation with a price what of course coincide with previous scatter plot. <br>\n",
    "- The floor of the apartment and the total floor of the building have almost no effect on the price."
   ]
  },
  {
   "cell_type": "markdown",
   "metadata": {},
   "source": [
    "### B. Flat type <a id=\"8\"></a>"
   ]
  },
  {
   "cell_type": "code",
   "execution_count": null,
   "metadata": {},
   "outputs": [],
   "source": [
    "# Bar chart to display the number of apartments offered for each flat type \n",
    "fig = go.Figure()\n",
    "fig.add_trace(go.Bar(\n",
    "    x=df.flat_type.value_counts(), y=df.flat_type.value_counts().index, orientation='h', texttemplate=\"%{x}\", textfont_size=12, textposition = 'outside'))\n",
    "fig.update_layout(paper_bgcolor='#fafafa', width=800,  height=500, title='Flat type vs apartments number')\n",
    "fig.update_xaxes(title_text=\"Number of offered apartments\")\n",
    "fig.update_yaxes(title_text=\"Flat type\")\n",
    "\n",
    "fig.show(renderer=\"svg\")"
   ]
  },
  {
   "cell_type": "code",
   "execution_count": null,
   "metadata": {},
   "outputs": [],
   "source": [
    "# Box plot for the price distribution the most common flat types\n",
    "x_data = ['1_room_ap', '2_room_ap', '3_room_ap', '4_room_ap', 'room', 'sectional_ap', 'gostinka_ap']\n",
    "\n",
    "y0 = df.price[df.flat_type == '1_room_ap'].values.tolist()\n",
    "y1 = df.price[df.flat_type == '2_room_ap'].values.tolist()\n",
    "y2 = df.price[df.flat_type == '3_room_ap'].values.tolist()\n",
    "y3 = df.price[df.flat_type == '4_room_ap'].values.tolist()\n",
    "y4 = df.price[df.flat_type == 'room'].values.tolist()\n",
    "y5 = df.price[df.flat_type == 'sectional_ap'].values.tolist()\n",
    "y6 = df.price[df.flat_type == 'gostinka_ap'].values.tolist()\n",
    "\n",
    "y_data = [y0, y1, y2, y3, y4, y5, y6]\n",
    "\n",
    "colors = ['rgba(93, 164, 214, 0.5)', 'rgba(255, 144, 14, 0.5)', 'rgba(44, 160, 101, 0.5)',\n",
    "          'rgba(255, 65, 54, 0.5)', 'rgba(207, 114, 255, 0.5)', 'rgba(127, 96, 0, 0.5)',\n",
    "          'rgba(207, 11, 2, 0.5)', 'rgba(127, 96, 8, 0.5)']\n",
    "\n",
    "fig = go.Figure()\n",
    "\n",
    "for xd, yd, cls in zip(x_data, y_data, colors):\n",
    "        fig.add_trace(go.Box(\n",
    "            y=yd,\n",
    "            name=xd,\n",
    "            boxpoints='all',\n",
    "            jitter=0.45,\n",
    "            whiskerwidth=0.2,\n",
    "            fillcolor=cls,\n",
    "            marker_size=2.5,\n",
    "            line_width=1)\n",
    "        )\n",
    "\n",
    "fig.update_layout(\n",
    "    title='Flat type',\n",
    "    yaxis=dict(\n",
    "        autorange=True,\n",
    "        showgrid=True,\n",
    "        zeroline=True,\n",
    "        #dtick=5,\n",
    "        gridcolor='rgb(255, 255, 255)',\n",
    "        gridwidth=1,\n",
    "        zerolinecolor='rgb(255, 255, 255)',\n",
    "        zerolinewidth=2,\n",
    "    ),\n",
    "    margin=dict(\n",
    "        l=40,\n",
    "        r=30,\n",
    "        b=80,\n",
    "        t=100,\n",
    "    ),\n",
    "    paper_bgcolor='rgb(243, 243, 243)',\n",
    "    plot_bgcolor='rgb(243, 243, 243)',\n",
    "    showlegend=False\n",
    ")\n",
    "fig.update_yaxes(title_text=\"Price (euro)\")\n",
    "fig.update_xaxes(title_text=\"Flat type\")\n",
    "\n",
    "fig.show(renderer=\"svg\")"
   ]
  },
  {
   "cell_type": "code",
   "execution_count": null,
   "metadata": {},
   "outputs": [],
   "source": [
    "# Average premises area for different flat types\n",
    "df.groupby('flat_type')['premises_area'].agg(['mean', 'std']).reset_index()"
   ]
  },
  {
   "cell_type": "markdown",
   "metadata": {},
   "source": [
    "Analyzing the results of the two previous graphs, some conclusions can be drawn:\n",
    "- 1- and 2-room apartments significantly outnumber others on the market.\n",
    "- General trend is visible with an increase in the number of rooms, the cost of housing increases. Prices for rooms, sectional apartments, gostinka apartments are the cheapest due to the fact that there is the smallest area of the premises. \n",
    "- As can be seen from the box-plot, the spread of prices with an increase in the housing area tend to be higher.\n"
   ]
  },
  {
   "cell_type": "markdown",
   "metadata": {},
   "source": [
    "### C. City area <a id=\"9\"></a>"
   ]
  },
  {
   "cell_type": "code",
   "execution_count": null,
   "metadata": {},
   "outputs": [],
   "source": [
    "# Bar chart to display the number of apartments offered for each city area\n",
    "fig = go.Figure()\n",
    "fig.add_trace(go.Bar(\n",
    "    x=df.city_area.value_counts(), y=df.city_area.value_counts().index, orientation='h', texttemplate=\"%{x}\", textfont_size=12, textposition = 'outside'))\n",
    "fig.update_layout(paper_bgcolor='#fafafa', width=800,  height=500, title='Number of apartments offered in different city areas')\n",
    "fig.update_xaxes(title_text=\"Number of offered apartments\")\n",
    "fig.update_yaxes(title_text=\"City area\")\n",
    "\n",
    "fig.show(renderer=\"svg\")"
   ]
  },
  {
   "cell_type": "code",
   "execution_count": null,
   "metadata": {},
   "outputs": [],
   "source": [
    "# Box plot for the price distribution of the apartments in different districts of the city\n",
    "x_data = df.city_area.value_counts().index.tolist()\n",
    "\n",
    "y0 = df.price[df.city_area == 'Sovietskiy'].values.tolist()\n",
    "y1 = df.price[df.city_area == 'Oktyabrskiy'].values.tolist()\n",
    "y2 = df.price[df.city_area == 'Sverdlovsky'].values.tolist()\n",
    "y3 = df.price[df.city_area == 'Leninsky'].values.tolist()\n",
    "y4 = df.price[df.city_area == 'Zheleznodorozhniy'].values.tolist()\n",
    "y5 = df.price[df.city_area == 'Kirovsky'].values.tolist()\n",
    "y6 = df.price[df.city_area == 'Central'].values.tolist()\n",
    "\n",
    "y_data = [y0, y1, y2, y3, y4, y5, y6]\n",
    "\n",
    "colors = ['rgba(93, 164, 214, 0.5)', 'rgba(255, 144, 14, 0.5)', 'rgba(44, 160, 101, 0.5)',\n",
    "          'rgba(255, 65, 54, 0.5)', 'rgba(207, 114, 255, 0.5)', 'rgba(127, 96, 0, 0.5)',\n",
    "          'rgba(207, 114, 255, 0.5)']\n",
    "\n",
    "fig = go.Figure()\n",
    "\n",
    "for xd, yd, cls in zip(x_data, y_data, colors):\n",
    "        fig.add_trace(go.Box(\n",
    "            y=yd,\n",
    "            name=xd,\n",
    "            boxpoints='all',\n",
    "            jitter=0.45,\n",
    "            whiskerwidth=0.2,\n",
    "            fillcolor=cls,\n",
    "            marker_size=2.5,\n",
    "            line_width=1)\n",
    "        )\n",
    "\n",
    "fig.update_layout(width=800,  height=500,\n",
    "    title='City area',\n",
    "    yaxis=dict(\n",
    "        autorange=True,\n",
    "        showgrid=True,\n",
    "        zeroline=True,\n",
    "        #dtick=5,\n",
    "        gridcolor='rgb(255, 255, 255)',\n",
    "        gridwidth=1,\n",
    "        zerolinecolor='rgb(255, 255, 255)',\n",
    "        zerolinewidth=2,\n",
    "    ),\n",
    "    margin=dict(\n",
    "        l=40,\n",
    "        r=30,\n",
    "        b=80,\n",
    "        t=100,\n",
    "    ),\n",
    "    paper_bgcolor='rgb(243, 243, 243)',\n",
    "    plot_bgcolor='rgb(243, 243, 243)',\n",
    "    showlegend=False\n",
    ")\n",
    "fig.update_yaxes(title_text=\"Price (euro)\")\n",
    "fig.update_xaxes(title_text=\"City area\")\n",
    "\n",
    "fig.show(renderer=\"svg\")"
   ]
  },
  {
   "cell_type": "markdown",
   "metadata": {},
   "source": [
    "- There are significantly more apartments in the Sovietsky district than in others on the market. The smallest number of offered apartments is located in the \"Central\" district.\n",
    "- The cheapest apartments are located in the \"Leninsky\" and \"Kirovsky\" districts."
   ]
  },
  {
   "cell_type": "markdown",
   "metadata": {},
   "source": [
    "### D. Premises area <a id=\"10\"></a>"
   ]
  },
  {
   "cell_type": "markdown",
   "metadata": {},
   "source": [
    "To investigate premises area let's create a scatter plot. Where the x-axis shows the premises area and the y-axis shows the price of the apartments. The marginal_x and marginal_y parameters add histograms to each axis. And the color of each point is determined by the flat type."
   ]
  },
  {
   "cell_type": "code",
   "execution_count": null,
   "metadata": {},
   "outputs": [],
   "source": [
    "# Scatter plot\n",
    "fig = px.scatter(df, x=df[\"premises_area\"], y=df[\"price\"], marginal_x=\"histogram\", marginal_y=\"histogram\", \n",
    "                 color=\"flat_type\", trendline=\"ols\")\n",
    "fig.update_layout(width=750,  height=500, paper_bgcolor='#fafafa', title='Price vs Premises area')\n",
    "fig.show(renderer=\"svg\") "
   ]
  },
  {
   "cell_type": "markdown",
   "metadata": {},
   "source": [
    "- From the graph it can be seen that the prices for apartments are highly dependent on their type, which are marked with colors. These price and area distributions are very clearly visible on the density plots.\n",
    "- The trend lines show that the price increases linearly with an increase in the area of housing for different categories of apartments. The slope of the trend lines shows that rooms and sectional apartments rise in price much less with an increase in area than other types of apartments."
   ]
  },
  {
   "cell_type": "markdown",
   "metadata": {},
   "source": [
    "### E. Floor <a id=\"11\"></a>"
   ]
  },
  {
   "cell_type": "code",
   "execution_count": null,
   "metadata": {},
   "outputs": [],
   "source": [
    "# Bar chart to display the number of apartments offered in different floors\n",
    "fig = go.Figure()\n",
    "fig.add_trace(go.Bar(\n",
    "    x=df.floor.value_counts().index, y=df.floor.value_counts(), texttemplate=\"%{y}\", textfont_size=12, textposition = 'outside'))\n",
    "fig.update_layout(paper_bgcolor='#fafafa', width=800,  height=500, title='Number of apartments offered in different floors')\n",
    "fig.update_xaxes(title_text=\"Floor of apartment\")\n",
    "fig.update_yaxes(title_text=\"Number of offered apartments\")\n",
    "\n",
    "fig.show(renderer=\"svg\")"
   ]
  },
  {
   "cell_type": "code",
   "execution_count": null,
   "metadata": {},
   "outputs": [],
   "source": [
    "# Bar chart to display the number of apartments offered in buildings with different total floor numbers\n",
    "fig = go.Figure()\n",
    "fig.add_trace(go.Bar(\n",
    "    x=df.floor_tot.value_counts().index, y=df.floor_tot.value_counts(), texttemplate=\"%{y}\", textfont_size=12, textposition = 'outside'))\n",
    "fig.update_layout(paper_bgcolor='#fafafa', width=800,  height=500, title='Number of apartments offered in different buildings')\n",
    "fig.update_xaxes(title_text=\"Total number of floors\")\n",
    "fig.update_yaxes(title_text=\"Number of offered apartments\")\n",
    "\n",
    "fig.show(renderer=\"svg\")"
   ]
  },
  {
   "cell_type": "markdown",
   "metadata": {},
   "source": [
    "- A general trend is visible that starting from the first floor, the increase in the floor decreases the total number of the offered apartments.\n",
    "- The largest number of offers for the sale of apartments is in buildings with a total number of storeys of 5, 9, 10, 17, 19, 25 floors."
   ]
  },
  {
   "cell_type": "markdown",
   "metadata": {},
   "source": [
    "### F. Layout <a id=\"12\"></a>"
   ]
  },
  {
   "cell_type": "code",
   "execution_count": null,
   "metadata": {},
   "outputs": [],
   "source": [
    "# Bar chart to display the number of apartments offered with different layout\n",
    "fig = go.Figure()\n",
    "fig.add_trace(go.Bar(\n",
    "    x=df.layout.value_counts(), y=df.layout.value_counts().index, orientation='h', texttemplate=\"%{x}\", textfont_size=12))\n",
    "fig.update_layout(paper_bgcolor='#fafafa', width=800,  height=500, title='Number of apartments offered with different layout')\n",
    "fig.update_xaxes(title_text=\"Number of offered apartments\")\n",
    "fig.update_yaxes(title_text=\"Layout\")\n",
    "\n",
    "fig.show(renderer=\"svg\")"
   ]
  },
  {
   "cell_type": "code",
   "execution_count": null,
   "metadata": {},
   "outputs": [],
   "source": [
    "# Box plot for the price distribution of the apartments with different layout\n",
    "x_data = df.layout.value_counts().index.tolist()\n",
    "\n",
    "y0 = df.price[df.layout == 'new'].values.tolist()\n",
    "y1 = df.price[df.layout == 'studio'].values.tolist()\n",
    "y2 = df.price[df.layout == 'individual'].values.tolist()\n",
    "y3 = df.price[df.layout == 'khrushchevka'].values.tolist()\n",
    "y4 = df.price[df.layout == 'improved'].values.tolist()\n",
    "y5 = df.price[df.layout == 'stalinka'].values.tolist()\n",
    "y6 = df.price[df.layout == 'leningradka'].values.tolist()\n",
    "y7 = df.price[df.layout == 'gostinka'].values.tolist()\n",
    "y8 = df.price[df.layout == 'dorm_room'].values.tolist()\n",
    "y9 = df.price[df.layout == 'section'].values.tolist()\n",
    "\n",
    "y_data = [y0, y1, y2, y3, y4, y5, y6, y7, y8, y9]\n",
    "\n",
    "colors = ['rgba(93, 164, 214, 0.5)', 'rgba(255, 144, 14, 0.5)', 'rgba(44, 160, 101, 0.5)',\n",
    "          'rgba(255, 65, 54, 0.5)', 'rgba(207, 114, 255, 0.5)', 'rgba(127, 96, 0, 0.5)',\n",
    "          'rgba(207, 114, 255, 0.5)', 'rgba(127, 96, 0, 0.5)',\n",
    "          'rgba(207, 114, 255, 0.5)', 'rgba(207, 114, 255, 0.5)']\n",
    "\n",
    "fig = go.Figure()\n",
    "\n",
    "for xd, yd, cls in zip(x_data, y_data, colors):\n",
    "        fig.add_trace(go.Box(\n",
    "            y=yd,\n",
    "            name=xd,\n",
    "            boxpoints='all',\n",
    "            jitter=0.45,\n",
    "            whiskerwidth=0.2,\n",
    "            fillcolor=cls,\n",
    "            marker_size=2.5,\n",
    "            line_width=1)\n",
    "        )\n",
    "\n",
    "fig.update_layout(width=800,  height=500,\n",
    "    title='Layout',\n",
    "    yaxis=dict(\n",
    "        autorange=True,\n",
    "        showgrid=True,\n",
    "        zeroline=True,\n",
    "        #dtick=5,\n",
    "        gridcolor='rgb(255, 255, 255)',\n",
    "        gridwidth=1,\n",
    "        zerolinecolor='rgb(255, 255, 255)',\n",
    "        zerolinewidth=2,\n",
    "    ),\n",
    "    margin=dict(\n",
    "        l=40,\n",
    "        r=30,\n",
    "        b=80,\n",
    "        t=100,\n",
    "    ),\n",
    "    paper_bgcolor='rgb(243, 243, 243)',\n",
    "    plot_bgcolor='rgb(243, 243, 243)',\n",
    "    showlegend=False\n",
    ")\n",
    "fig.update_yaxes(title_text=\"Price (euro)\")\n",
    "fig.update_xaxes(title_text=\"Layout\")\n",
    "fig.show(renderer=\"svg\")\n",
    "#fig.write_image(\"Layout.png\")"
   ]
  },
  {
   "cell_type": "code",
   "execution_count": null,
   "metadata": {},
   "outputs": [],
   "source": [
    "# Average premises area for different layout\n",
    "df.groupby('layout')['premises_area'].agg(['mean', 'std']).reset_index()"
   ]
  },
  {
   "cell_type": "markdown",
   "metadata": {},
   "source": [
    "- Apartments with a \"new\" layout greatly outnumber others on the market.\n",
    "- The \"gostinka\", \"dorm_room\" and \"section\" apartments are the cheapest, since their living space is quite small (as can be seen from the table above and the previous analysis).\n",
    "- The \"new\", \"individual\" and \"stalinka\" types of layouts tend to be more expensive, but they also have a wider price range overall."
   ]
  },
  {
   "cell_type": "markdown",
   "metadata": {},
   "source": [
    "### G. Construction status <a id=\"13\"></a>"
   ]
  },
  {
   "cell_type": "code",
   "execution_count": null,
   "metadata": {},
   "outputs": [],
   "source": [
    "# Bar chart to display the number of apartments offered with finished or under_construction status\n",
    "fig = go.Figure()\n",
    "fig.add_trace(go.Bar(\n",
    "    x=df.status.value_counts().index, y=df.status.value_counts(), texttemplate=\"%{y}\", textfont_size=12))\n",
    "fig.update_layout(paper_bgcolor='#fafafa', width=500,  height=500, title='Number of apartments offered with different status')\n",
    "fig.update_yaxes(title_text=\"Number of offered apartments\")\n",
    "fig.update_xaxes(title_text=\"Construction status\")\n",
    "\n",
    "fig.show(renderer=\"svg\")"
   ]
  },
  {
   "cell_type": "code",
   "execution_count": null,
   "metadata": {},
   "outputs": [],
   "source": [
    "# Box plot for the price distribution of the apartments with different construction status\n",
    "x_data = df.status.value_counts().index.tolist()\n",
    "\n",
    "y0 = df.price[df.status == 'finished'].values.tolist()\n",
    "y1 = df.price[df.status == 'under_construction'].values.tolist()\n",
    "\n",
    "y_data = [y0, y1]\n",
    "\n",
    "colors = ['rgba(93, 164, 214, 0.5)', 'rgba(255, 144, 14, 0.5)', 'rgba(44, 160, 101, 0.5)',\n",
    "          'rgba(255, 65, 54, 0.5)', 'rgba(207, 114, 255, 0.5)', 'rgba(127, 96, 0, 0.5)',\n",
    "          'rgba(207, 114, 255, 0.5)']\n",
    "\n",
    "fig = go.Figure()\n",
    "\n",
    "for xd, yd, cls in zip(x_data, y_data, colors):\n",
    "        fig.add_trace(go.Box(\n",
    "            y=yd,\n",
    "            name=xd,\n",
    "            boxpoints='all',\n",
    "            jitter=0.45,\n",
    "            whiskerwidth=0.2,\n",
    "            fillcolor=cls,\n",
    "            marker_size=2.5,\n",
    "            line_width=1)\n",
    "        )\n",
    "\n",
    "fig.update_layout(\n",
    "    width=400,  height=500,\n",
    "    title='Construction status',\n",
    "    yaxis=dict(\n",
    "        autorange=True,\n",
    "        showgrid=True,\n",
    "        zeroline=True,\n",
    "        gridcolor='rgb(255, 255, 255)',\n",
    "        gridwidth=1,\n",
    "        zerolinecolor='rgb(255, 255, 255)',\n",
    "        zerolinewidth=2,\n",
    "    ),\n",
    "    margin=dict(\n",
    "        l=40,\n",
    "        r=30,\n",
    "        b=80,\n",
    "        t=100,\n",
    "    ),\n",
    "    paper_bgcolor='rgb(243, 243, 243)',\n",
    "    plot_bgcolor='rgb(243, 243, 243)',\n",
    "    showlegend=False\n",
    ")\n",
    "fig.update_yaxes(title_text=\"Price (euro)\")\n",
    "fig.update_xaxes(title_text=\"Construction status\")\n",
    "\n",
    "fig.show(renderer=\"svg\")"
   ]
  },
  {
   "cell_type": "markdown",
   "metadata": {},
   "source": [
    "- The number of apartments under construction status, obviously, greatly exceeds the number of apartments that are under construction. \n",
    "- Many apartments are being built, almost a third of those that are sold as finished type."
   ]
  },
  {
   "cell_type": "markdown",
   "metadata": {},
   "source": [
    "## 5. Apartments under construction <a id=\"14\"></a>\n",
    "Due to the fact that a huge number of apartments are under construction, let's look at which apartments are in this status and find the most profitable type of housing for the average buyer."
   ]
  },
  {
   "cell_type": "markdown",
   "metadata": {},
   "source": [
    "### A. City areas <a id=\"15\"></a>"
   ]
  },
  {
   "cell_type": "code",
   "execution_count": null,
   "metadata": {},
   "outputs": [],
   "source": [
    "# Selection of only those apartments that are in the status \"under_construction\"\n",
    "uc = df[df.status == 'under_construction']"
   ]
  },
  {
   "cell_type": "code",
   "execution_count": null,
   "metadata": {
    "scrolled": true
   },
   "outputs": [],
   "source": [
    "# Count of unique values in the \"city_area\"\n",
    "uc.city_area.value_counts()"
   ]
  },
  {
   "cell_type": "code",
   "execution_count": null,
   "metadata": {},
   "outputs": [],
   "source": [
    "# Let's build a pie chart to demonstrate number of city areas where new flat are building\n",
    "fig = px.pie(uc.city_area, names=\"city_area\",\n",
    "            title='City areas of unfinished buildings', width=500,  height=500)\n",
    "fig.update_layout(plot_bgcolor='#fafafa', paper_bgcolor='#fafafa')\n",
    "fig.update_traces(textposition='inside', textinfo='percent+value')\n",
    "fig.show(renderer=\"svg\")"
   ]
  },
  {
   "cell_type": "markdown",
   "metadata": {},
   "source": [
    "- Most of the apartments are being built in the Sovietsky and Oktyabrsky districts."
   ]
  },
  {
   "cell_type": "markdown",
   "metadata": {},
   "source": [
    "### B. Flat types <a id=\"16\"></a>"
   ]
  },
  {
   "cell_type": "code",
   "execution_count": null,
   "metadata": {},
   "outputs": [],
   "source": [
    "# Let's build a pie chart to demonstrate number of different flat types where new flat are building\n",
    "fig = px.pie(uc.flat_type, names=\"flat_type\",\n",
    "            title='Amount of different flat types in unfinished buildings', width=500,  height=500)\n",
    "fig.update_layout(plot_bgcolor='#fafafa', paper_bgcolor='#fafafa')\n",
    "fig.update_traces(textposition='inside', textinfo='percent+value', pull=[0, 0, 0, 0, 0.05])\n",
    "fig.show(renderer=\"svg\")"
   ]
  },
  {
   "cell_type": "code",
   "execution_count": null,
   "metadata": {},
   "outputs": [],
   "source": [
    "# Average prices for different flat_type in under construction building \n",
    "uc_flat = uc.groupby('flat_type')['price'].agg(['mean', 'std']).reset_index()"
   ]
  },
  {
   "cell_type": "code",
   "execution_count": null,
   "metadata": {},
   "outputs": [],
   "source": [
    "# Average prices for different flat_type in finished building \n",
    "finished = df[df.status == 'finished']\n",
    "finished_flat = finished.groupby('flat_type')['price'].agg(['mean', 'std']).reset_index()\n",
    "finished_flat = finished_flat[finished_flat.flat_type != '5_room_ap']\n",
    "finished_flat = finished_flat[finished_flat.flat_type != 'gostinka_ap']\n",
    "finished_flat = finished_flat[finished_flat.flat_type != 'room']\n",
    "finished_flat = finished_flat[finished_flat.flat_type != 'sectional_ap']"
   ]
  },
  {
   "cell_type": "code",
   "execution_count": null,
   "metadata": {},
   "outputs": [],
   "source": [
    "# Average prices for different flat_type \n",
    "fig = go.Figure()\n",
    "fig.add_trace(go.Bar(\n",
    "    name='finished',\n",
    "    x=finished_flat.flat_type, y=finished_flat[\"mean\"],\n",
    "    error_y=dict(type='data', array=finished_flat[\"std\"]), texttemplate=\"%{y}\", textfont_size=14, textposition = 'outside'))\n",
    "fig.add_trace(go.Bar(\n",
    "    name='under_construction',\n",
    "    x=uc_flat.flat_type, y=uc_flat[\"mean\"],\n",
    "    error_y=dict(type='data', array=uc_flat[\"std\"]), texttemplate=\"%{y}\", textfont_size=14, textposition = 'outside'))\n",
    "fig.update_layout(paper_bgcolor='#fafafa', barmode='group', width=950,  height=600, title='Mean price for different flat types')\n",
    "fig.update_yaxes(title_text=\"Mean price\")\n",
    "fig.update_xaxes(title_text=\"Flat type\")\n",
    "\n",
    "fig.show(renderer=\"svg\")"
   ]
  },
  {
   "cell_type": "markdown",
   "metadata": {},
   "source": [
    "- The largest number of apartments under construction are two-room 41.9% with an average price 72.29k euro, in second place are one-room 31.4% with an average price 52.74k euro.\n",
    "- For apartments in buildings under construction, the mean price increases with an increase in the number of rooms. In the case of finished apartments, the dependence is not so obvious for 3- and 4-room apartments, the average value of the cost is almost the same."
   ]
  },
  {
   "cell_type": "markdown",
   "metadata": {},
   "source": [
    "### C. Best prices for 2-room apartment <a id=\"17\"></a>"
   ]
  },
  {
   "cell_type": "markdown",
   "metadata": {},
   "source": [
    "According to studies [3], 1 and 2-room apartments are the most frequently bought. \n",
    "Since two-room apartments are the most popular among developers, we will find the best option in terms of area and price for the average buyer."
   ]
  },
  {
   "cell_type": "code",
   "execution_count": null,
   "metadata": {},
   "outputs": [],
   "source": [
    "# Average premises_area for different flat_type in under construction building \n",
    "uc.groupby('flat_type')['premises_area'].agg(['mean', 'std']).reset_index()"
   ]
  },
  {
   "cell_type": "code",
   "execution_count": null,
   "metadata": {},
   "outputs": [],
   "source": [
    "# Scatter plot price vs premises_area. Color of each point is determined by the flat type\n",
    "fig = px.scatter(uc, x=uc[\"premises_area\"], y=uc[\"price\"], marginal_x=\"histogram\", marginal_y=\"histogram\", \n",
    "                 color=\"flat_type\", trendline=\"ols\")\n",
    "fig.update_layout(paper_bgcolor='#fafafa', title='Price vs Premises area')\n",
    "\n",
    "fig.show(renderer=\"svg\")"
   ]
  },
  {
   "cell_type": "markdown",
   "metadata": {},
   "source": [
    "- The histograms of the scatter plot clearly shows the division of prices and areas of apartments of different types. In scatter plot, we are interested in overlapping histograms aria for 1- and 2-room apartments as the most popular among buyers. **Thus we will find two-room apartments with an premises area of at least 50 m2 and not exceeding the average cost of one-room apartments 52745 euro.** "
   ]
  },
  {
   "cell_type": "code",
   "execution_count": null,
   "metadata": {},
   "outputs": [],
   "source": [
    "uc[(uc.price <= 52745) & (uc.premises_area > 50) & (uc.flat_type == '2_room_ap')]"
   ]
  },
  {
   "cell_type": "markdown",
   "metadata": {},
   "source": [
    "- We found 9 new two-room apartments for the price of a one-room apartment and much more area than the average one-room case, taking into account the standard deviation. \n",
    "Seven of them are located in the Sovietskiy and two in the Oktyabrskiy region. The apartments are located in 17 and 18 storey building on quite different floors."
   ]
  },
  {
   "cell_type": "markdown",
   "metadata": {},
   "source": [
    "### D. 2-room apartment price distribution in different city arias<a id=\"18\"></a>\n",
    "So we have already identified the most profitable and popular apartments, we will further consider the distribution of two-room apartment prices in various districts of the Krasnoyarsk city."
   ]
  },
  {
   "cell_type": "code",
   "execution_count": null,
   "metadata": {},
   "outputs": [],
   "source": [
    "# Average price for different city_area in under construction building\n",
    "uc_flat_2rooms = uc[uc.flat_type == '2_room_ap'].groupby('city_area')['price'].agg(['mean', 'std']).reset_index()\n",
    "uc_flat_2rooms"
   ]
  },
  {
   "cell_type": "code",
   "execution_count": null,
   "metadata": {},
   "outputs": [],
   "source": [
    "# Count of unique values in the \"city_area\" for 2_room apartment in under construction building\n",
    "uc[uc.flat_type == '2_room_ap'].city_area.value_counts()"
   ]
  },
  {
   "cell_type": "code",
   "execution_count": null,
   "metadata": {},
   "outputs": [],
   "source": [
    "# Average prices of 2_room apartments for different city areas \n",
    "fig = go.Figure()\n",
    "fig.add_trace(go.Bar(\n",
    "    x=uc_flat_2rooms[\"city_area\"], y=uc_flat_2rooms[\"mean\"],\n",
    "    error_y=dict(type='data', array=uc_flat_2rooms[\"std\"]), texttemplate=\"%{y}\", textfont_size=14, textposition = 'outside'))\n",
    "fig.update_layout(paper_bgcolor='#fafafa', barmode='group', width=700,  height=500, title='The average cost of 2-room apartments in different parts of the city')\n",
    "fig.update_yaxes(title_text=\"Mean price\")\n",
    "fig.update_xaxes(title_text=\"City area\")\n",
    "\n",
    "fig.show(renderer=\"svg\")"
   ]
  },
  {
   "cell_type": "markdown",
   "metadata": {},
   "source": [
    "- Among 2-room apartments in buildings under construction, the cheapest flats are located in the Kirovsky region, and the most expensive in the Zheleznodorozhniy region.\n",
    "- The prices for the considered apartments in the Oktyabrskiy, Sovietskiy and Sverdlovsky districts do not have a statistically significant difference due to similar mean value and overlap of standard deviation."
   ]
  },
  {
   "cell_type": "code",
   "execution_count": null,
   "metadata": {},
   "outputs": [],
   "source": [
    "# save data to csv\n",
    "df.to_csv(\"flats_info_eda.csv\", index=False)"
   ]
  },
  {
   "cell_type": "markdown",
   "metadata": {},
   "source": [
    "## 6. Summary  <a id=\"19\"></a>"
   ]
  },
  {
   "cell_type": "markdown",
   "metadata": {},
   "source": [
    "The Exploratory Data Analysis (EDA) for the Krasnoyarsk city real estate market provides valuable insights for data scientists and real estate analysts. The analysis covers various factors affecting the price of apartments in the Krasnoyarsk city market, including premises area, flat type, city area, layout, construction status, and floor. The following are some of the key findings from the analysis:\n",
    "\n",
    "- The EDA found a clear linear relationship between price and premises area, with a big positive correlation between the two. The floor of the apartment and the total floor of the building had almost no effect on the price. One and two-room apartments significantly outnumbered other types of flats on the market, with the general trend of an increase in the number of rooms leading to a higher cost of housing. The cheapest flats were rooms, sectional apartments, and gostinka apartments, which had the smallest area of premises.\n",
    "\n",
    "- The city area also played a significant role in the housing market, with significantly more apartments in the Sovietsky district than others. The smallest number of apartments was located in the Central district, and the cheapest ones were in the Leninsky and Kirovsky districts.\n",
    "\n",
    "- The EDA also revealed that the type of layout significantly affected the price of apartments. Apartments with a \"new\" layout greatly outnumbered others on the market, with \"gostinka\", \"dorm_room\", and \"section\" apartments being the cheapest, while \"new\", \"individual\", and \"stalinka\" types tended to be more expensive.\n",
    "\n",
    "- Moreover, the analysis found that a large number of apartments were under construction status, with two-room apartments being the most popular among developers. The average price of a two-room apartment was found to be 72.29k euro.\n",
    "\n",
    "- The EDA also identified the most profitable and popular two-room apartments with a premises area of at least 50 m2 and not exceeding the average cost of one-room apartments 52.74k euro. These apartments were found to be located in the Sovietskiy and Oktyabrskiy regions.\n",
    "\n",
    "- On average, the lowest price for 2-room apartments under construction are located in the Kirovsky region, and the most expensive are located in the Zheleznodorozhniy region. The prices for the considered apartments in the Oktyabrskiy, Sovietskiy, and Sverdlovsky districts do not have a statistically significant difference due to similar mean value and overlap of standard deviation.\n",
    "\n",
    "Overall, the EDA provides valuable insights for buyers, sellers, developers, and investors looking to invest in the Krasnoyarsk city housing market."
   ]
  },
  {
   "cell_type": "markdown",
   "metadata": {},
   "source": [
    "## 7. References <a id=\"20\"></a>  \n",
    "1) https://arevera.ru/apartments/ <br>\n",
    "2) https://lidenz.com/typical-russian-apartments/ <br>\n",
    "3) https://www.metrinfo.ru/novostroyki/articles/samye-populyarnye-kvartiry-udobnye-no-bez.165447.html"
   ]
  }
 ],
 "metadata": {
  "kernelspec": {
   "display_name": "Python 3 (ipykernel)",
   "language": "python",
   "name": "python3"
  },
  "language_info": {
   "codemirror_mode": {
    "name": "ipython",
    "version": 3
   },
   "file_extension": ".py",
   "mimetype": "text/x-python",
   "name": "python",
   "nbconvert_exporter": "python",
   "pygments_lexer": "ipython3",
   "version": "3.9.13"
  }
 },
 "nbformat": 4,
 "nbformat_minor": 4
}
