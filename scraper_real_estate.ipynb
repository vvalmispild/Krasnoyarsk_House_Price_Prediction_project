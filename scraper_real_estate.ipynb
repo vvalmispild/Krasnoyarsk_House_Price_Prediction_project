{
 "cells": [
  {
   "cell_type": "markdown",
   "metadata": {},
   "source": [
    "## Real Estate Scraper "
   ]
  },
  {
   "cell_type": "code",
   "execution_count": 1,
   "metadata": {},
   "outputs": [],
   "source": [
    "from selenium.common.exceptions import NoSuchElementException\n",
    "from selenium import webdriver\n",
    "from selenium.webdriver.common.by import By\n",
    "from selenium.webdriver.chrome.service import Service\n",
    "from webdriver_manager.chrome import ChromeDriverManager  \n",
    "import time\n",
    "import csv\n",
    "import pandas as pd"
   ]
  },
  {
   "cell_type": "code",
   "execution_count": 2,
   "metadata": {},
   "outputs": [],
   "source": [
    "def scrape_flat_card(flat_card):\n",
    "    # Extract from single card flat related data\n",
    "    # Room number\n",
    "    try:\n",
    "        room_number = flat_card.find_element(By.XPATH,'.//span[@class=\"item__r-count\"]').text\n",
    "    except NoSuchElementException:\n",
    "        room_number = \"NI\"      \n",
    "    # region    \n",
    "    try:\n",
    "        region = flat_card.find_element(By.XPATH,'.//span[@class=\"item__location\"]').text\n",
    "    except NoSuchElementException:\n",
    "        region = \"NI\"         \n",
    "    # Flat area    \n",
    "    try:\n",
    "        area = flat_card.find_element(By.XPATH,'.//span[@class=\"item__yardage\"]').text\n",
    "    except NoSuchElementException:\n",
    "        area = \"NI\" \n",
    "    # Flat full price    \n",
    "    try:\n",
    "        price = flat_card.find_element(By.XPATH,'.//div[@class=\"card-item-prices__current\"]').text\n",
    "    except NoSuchElementException:\n",
    "        price = \"NI\"         \n",
    "    # Flat price square m  \n",
    "    try:\n",
    "        price_sq_m = flat_card.find_element(By.XPATH,'.//div[@class=\"card-item-prices__metr\"]').text\n",
    "    except NoSuchElementException:\n",
    "        price_sq_m = \"NI\"     \n",
    "    # Floor number\n",
    "    try:\n",
    "        floor = flat_card.find_element(By.XPATH,'.//div[@class=\"item__level\"]').text\n",
    "    except NoSuchElementException:\n",
    "        floor = \"NI\" \n",
    "    # Apartment layout\n",
    "    try:\n",
    "        layout = flat_card.find_element(By.XPATH,'.//div[@class=\"item__d-row th-row\"]').text\n",
    "    except NoSuchElementException:\n",
    "        layout = \"NI\"   \n",
    "        \n",
    "    return room_number, region, area, price, price_sq_m, floor, layout"
   ]
  },
  {
   "cell_type": "code",
   "execution_count": 4,
   "metadata": {},
   "outputs": [],
   "source": [
    "def flats_scraper(num_flat_cards, waiting_time, url):\n",
    "    driver = webdriver.Chrome(service=Service(ChromeDriverManager().install()))\n",
    "    driver.set_window_size(1120, 1000) \n",
    "    driver.get(url)\n",
    "    flats = []\n",
    "    while len(flats) < num_flat_cards:\n",
    "        print(\"Progress: {}\".format(\"\" + str(len(flats)) + \"/\" + str(num_flat_cards)))\n",
    "        page_reload_check_start = len(flats)\n",
    "        flat_cards_list = driver.find_elements(By.XPATH,'.//div[@class=\"col-12 col-md-6 col-lg-4 js-item-container\"]')#.text\n",
    "        for i in range(len(flat_cards_list)):\n",
    "            print(\"Progress: {}\".format(\"\" + str(len(flats)) + \"/\" + str(num_flat_cards)))\n",
    "            if len(flats) >= num_flat_cards:\n",
    "                break\n",
    "            flats.append(scrape_flat_card(flat_cards_list[i]))             \n",
    "            if i == (len(flat_cards_list)-1):\n",
    "                # Clicking on the \"next page\" button\n",
    "                driver.find_element(By.XPATH, './/a[@class=\"paginator__next\"]').click()\n",
    "                time.sleep(waiting_time)\n",
    "                \n",
    "    save_data_to_csv_file(flats)   "
   ]
  },
  {
   "cell_type": "code",
   "execution_count": 5,
   "metadata": {},
   "outputs": [],
   "source": [
    "def save_data_to_csv_file(records):\n",
    "    # Save scraped data to csv file\n",
    "    with open('Real_estate_info.csv', 'w', newline='', encoding='utf-8') as f:\n",
    "        writer = csv.writer(f)\n",
    "        writer.writerow(['room_number', 'region', 'area', 'price', 'price_sq_m', 'floor', 'layout'])\n",
    "        writer.writerows(records)"
   ]
  },
  {
   "cell_type": "code",
   "execution_count": 6,
   "metadata": {},
   "outputs": [
    {
     "name": "stdout",
     "output_type": "stream",
     "text": [
      "Progress: 0/5\n",
      "Progress: 0/5\n",
      "Progress: 1/5\n",
      "Progress: 2/5\n",
      "Progress: 3/5\n",
      "Progress: 4/5\n",
      "Progress: 5/5\n"
     ]
    }
   ],
   "source": [
    "url = 'https://arevera.ru/apartments/'\n",
    "flats_scraper(num_flat_cards=5, waiting_time=2, url=url)"
   ]
  },
  {
   "cell_type": "code",
   "execution_count": 8,
   "metadata": {},
   "outputs": [
    {
     "data": {
      "text/html": [
       "<div>\n",
       "<style scoped>\n",
       "    .dataframe tbody tr th:only-of-type {\n",
       "        vertical-align: middle;\n",
       "    }\n",
       "\n",
       "    .dataframe tbody tr th {\n",
       "        vertical-align: top;\n",
       "    }\n",
       "\n",
       "    .dataframe thead th {\n",
       "        text-align: right;\n",
       "    }\n",
       "</style>\n",
       "<table border=\"1\" class=\"dataframe\">\n",
       "  <thead>\n",
       "    <tr style=\"text-align: right;\">\n",
       "      <th></th>\n",
       "      <th>room_number</th>\n",
       "      <th>region</th>\n",
       "      <th>area</th>\n",
       "      <th>price</th>\n",
       "      <th>price_sq_m</th>\n",
       "      <th>floor</th>\n",
       "      <th>layout</th>\n",
       "    </tr>\n",
       "  </thead>\n",
       "  <tbody>\n",
       "    <tr>\n",
       "      <th>0</th>\n",
       "      <td>1-комн.</td>\n",
       "      <td>Кировский р-н, Кутузова, 1</td>\n",
       "      <td>38.60 м 2</td>\n",
       "      <td>3 474 000 руб.</td>\n",
       "      <td>90 000 руб./м2</td>\n",
       "      <td>эт. из 20</td>\n",
       "      <td>Кировский р-н, Кутузова, 1\\nПланировка: новая\\...</td>\n",
       "    </tr>\n",
       "    <tr>\n",
       "      <th>1</th>\n",
       "      <td>1-комн.</td>\n",
       "      <td>Советский р-н, Шумяцкого, 7</td>\n",
       "      <td>29.70 м 2</td>\n",
       "      <td>3 340 000 руб.</td>\n",
       "      <td>112 458 руб./м2</td>\n",
       "      <td>1 эт. из 9</td>\n",
       "      <td>Советский р-н, Шумяцкого, 7\\nПланировка: новая...</td>\n",
       "    </tr>\n",
       "    <tr>\n",
       "      <th>2</th>\n",
       "      <td>3-комн.</td>\n",
       "      <td>Советский р-н, 60 лет Образования СССР, 20</td>\n",
       "      <td>64.10 м 2</td>\n",
       "      <td>6 500 000 руб.</td>\n",
       "      <td>101 404 руб./м2</td>\n",
       "      <td>2 эт. из 9</td>\n",
       "      <td>Советский р-н, 60 лет Образования СССР, 20\\nПл...</td>\n",
       "    </tr>\n",
       "    <tr>\n",
       "      <th>3</th>\n",
       "      <td>3-комн.</td>\n",
       "      <td>Свердловский р-н, Семафорная, 241</td>\n",
       "      <td>58.40 м 2</td>\n",
       "      <td>4 990 000 руб.</td>\n",
       "      <td>85 445 руб./м2</td>\n",
       "      <td>1 эт. из 5</td>\n",
       "      <td>Свердловский р-н, Семафорная, 241\\nПланировка:...</td>\n",
       "    </tr>\n",
       "    <tr>\n",
       "      <th>4</th>\n",
       "      <td>3-комн.</td>\n",
       "      <td>Свердловский р-н, Южная набережная, 10</td>\n",
       "      <td>92.30 м 2</td>\n",
       "      <td>12 400 000 руб.</td>\n",
       "      <td>134 345 руб./м2</td>\n",
       "      <td>5 эт. из 6</td>\n",
       "      <td>Свердловский р-н, Южная набережная, 10\\nПланир...</td>\n",
       "    </tr>\n",
       "  </tbody>\n",
       "</table>\n",
       "</div>"
      ],
      "text/plain": [
       "  room_number                                      region       area  \\\n",
       "0     1-комн.                  Кировский р-н, Кутузова, 1  38.60 м 2   \n",
       "1     1-комн.                 Советский р-н, Шумяцкого, 7  29.70 м 2   \n",
       "2     3-комн.  Советский р-н, 60 лет Образования СССР, 20  64.10 м 2   \n",
       "3     3-комн.           Свердловский р-н, Семафорная, 241  58.40 м 2   \n",
       "4     3-комн.      Свердловский р-н, Южная набережная, 10  92.30 м 2   \n",
       "\n",
       "             price       price_sq_m       floor  \\\n",
       "0   3 474 000 руб.   90 000 руб./м2   эт. из 20   \n",
       "1   3 340 000 руб.  112 458 руб./м2  1 эт. из 9   \n",
       "2   6 500 000 руб.  101 404 руб./м2  2 эт. из 9   \n",
       "3   4 990 000 руб.   85 445 руб./м2  1 эт. из 5   \n",
       "4  12 400 000 руб.  134 345 руб./м2  5 эт. из 6   \n",
       "\n",
       "                                              layout  \n",
       "0  Кировский р-н, Кутузова, 1\\nПланировка: новая\\...  \n",
       "1  Советский р-н, Шумяцкого, 7\\nПланировка: новая...  \n",
       "2  Советский р-н, 60 лет Образования СССР, 20\\nПл...  \n",
       "3  Свердловский р-н, Семафорная, 241\\nПланировка:...  \n",
       "4  Свердловский р-н, Южная набережная, 10\\nПланир...  "
      ]
     },
     "execution_count": 8,
     "metadata": {},
     "output_type": "execute_result"
    }
   ],
   "source": [
    "# Open csv file with the results and displays the first five rows of the results \n",
    "df = pd.read_csv(\"./Real_estate_info.csv\")\n",
    "df.head()"
   ]
  }
 ],
 "metadata": {
  "kernelspec": {
   "display_name": "Python 3 (ipykernel)",
   "language": "python",
   "name": "python3"
  },
  "language_info": {
   "codemirror_mode": {
    "name": "ipython",
    "version": 3
   },
   "file_extension": ".py",
   "mimetype": "text/x-python",
   "name": "python",
   "nbconvert_exporter": "python",
   "pygments_lexer": "ipython3",
   "version": "3.9.13"
  }
 },
 "nbformat": 4,
 "nbformat_minor": 4
}
