{
 "cells": [
  {
   "cell_type": "markdown",
   "metadata": {},
   "source": [
    "## Data cleaning"
   ]
  },
  {
   "cell_type": "code",
   "execution_count": 1,
   "metadata": {},
   "outputs": [],
   "source": [
    "import csv\n",
    "import pandas as pd"
   ]
  },
  {
   "cell_type": "code",
   "execution_count": 2,
   "metadata": {},
   "outputs": [],
   "source": [
    "df = pd.read_csv(\"flats_info.csv\")"
   ]
  },
  {
   "cell_type": "code",
   "execution_count": 3,
   "metadata": {},
   "outputs": [
    {
     "data": {
      "text/plain": [
       "(2416, 7)"
      ]
     },
     "execution_count": 3,
     "metadata": {},
     "output_type": "execute_result"
    }
   ],
   "source": [
    "df.shape"
   ]
  },
  {
   "cell_type": "code",
   "execution_count": 4,
   "metadata": {},
   "outputs": [],
   "source": [
    "# Add prefix for original columns\n",
    "df = df.add_prefix('col_')"
   ]
  },
  {
   "cell_type": "code",
   "execution_count": 5,
   "metadata": {},
   "outputs": [
    {
     "data": {
      "text/html": [
       "<div>\n",
       "<style scoped>\n",
       "    .dataframe tbody tr th:only-of-type {\n",
       "        vertical-align: middle;\n",
       "    }\n",
       "\n",
       "    .dataframe tbody tr th {\n",
       "        vertical-align: top;\n",
       "    }\n",
       "\n",
       "    .dataframe thead th {\n",
       "        text-align: right;\n",
       "    }\n",
       "</style>\n",
       "<table border=\"1\" class=\"dataframe\">\n",
       "  <thead>\n",
       "    <tr style=\"text-align: right;\">\n",
       "      <th></th>\n",
       "      <th>col_room_number</th>\n",
       "      <th>col_region</th>\n",
       "      <th>col_area</th>\n",
       "      <th>col_price</th>\n",
       "      <th>col_price_sq_m</th>\n",
       "      <th>col_floor</th>\n",
       "      <th>col_layout</th>\n",
       "    </tr>\n",
       "  </thead>\n",
       "  <tbody>\n",
       "    <tr>\n",
       "      <th>0</th>\n",
       "      <td>1-комн.</td>\n",
       "      <td>Кировский р-н, Кутузова, 1</td>\n",
       "      <td>38.60 м 2</td>\n",
       "      <td>3 474 000 руб.</td>\n",
       "      <td>90 000 руб./м2</td>\n",
       "      <td>эт. из 20</td>\n",
       "      <td>Кировский р-н, Кутузова, 1\\nПланировка: новая\\...</td>\n",
       "    </tr>\n",
       "    <tr>\n",
       "      <th>1</th>\n",
       "      <td>1-комн.</td>\n",
       "      <td>Советский р-н, Шумяцкого, 7</td>\n",
       "      <td>29.70 м 2</td>\n",
       "      <td>3 340 000 руб.</td>\n",
       "      <td>112 458 руб./м2</td>\n",
       "      <td>1 эт. из 9</td>\n",
       "      <td>Советский р-н, Шумяцкого, 7\\nПланировка: новая...</td>\n",
       "    </tr>\n",
       "    <tr>\n",
       "      <th>2</th>\n",
       "      <td>3-комн.</td>\n",
       "      <td>Советский р-н, 60 лет Образования СССР, 20</td>\n",
       "      <td>64.10 м 2</td>\n",
       "      <td>6 500 000 руб.</td>\n",
       "      <td>101 404 руб./м2</td>\n",
       "      <td>2 эт. из 9</td>\n",
       "      <td>Советский р-н, 60 лет Образования СССР, 20\\nПл...</td>\n",
       "    </tr>\n",
       "    <tr>\n",
       "      <th>3</th>\n",
       "      <td>3-комн.</td>\n",
       "      <td>Свердловский р-н, Семафорная, 241</td>\n",
       "      <td>58.40 м 2</td>\n",
       "      <td>4 990 000 руб.</td>\n",
       "      <td>85 445 руб./м2</td>\n",
       "      <td>1 эт. из 5</td>\n",
       "      <td>Свердловский р-н, Семафорная, 241\\nПланировка:...</td>\n",
       "    </tr>\n",
       "    <tr>\n",
       "      <th>4</th>\n",
       "      <td>3-комн.</td>\n",
       "      <td>Свердловский р-н, Южная набережная, 10</td>\n",
       "      <td>92.30 м 2</td>\n",
       "      <td>12 400 000 руб.</td>\n",
       "      <td>134 345 руб./м2</td>\n",
       "      <td>5 эт. из 6</td>\n",
       "      <td>Свердловский р-н, Южная набережная, 10\\nПланир...</td>\n",
       "    </tr>\n",
       "  </tbody>\n",
       "</table>\n",
       "</div>"
      ],
      "text/plain": [
       "  col_room_number                                  col_region   col_area  \\\n",
       "0         1-комн.                  Кировский р-н, Кутузова, 1  38.60 м 2   \n",
       "1         1-комн.                 Советский р-н, Шумяцкого, 7  29.70 м 2   \n",
       "2         3-комн.  Советский р-н, 60 лет Образования СССР, 20  64.10 м 2   \n",
       "3         3-комн.           Свердловский р-н, Семафорная, 241  58.40 м 2   \n",
       "4         3-комн.      Свердловский р-н, Южная набережная, 10  92.30 м 2   \n",
       "\n",
       "         col_price   col_price_sq_m   col_floor  \\\n",
       "0   3 474 000 руб.   90 000 руб./м2   эт. из 20   \n",
       "1   3 340 000 руб.  112 458 руб./м2  1 эт. из 9   \n",
       "2   6 500 000 руб.  101 404 руб./м2  2 эт. из 9   \n",
       "3   4 990 000 руб.   85 445 руб./м2  1 эт. из 5   \n",
       "4  12 400 000 руб.  134 345 руб./м2  5 эт. из 6   \n",
       "\n",
       "                                          col_layout  \n",
       "0  Кировский р-н, Кутузова, 1\\nПланировка: новая\\...  \n",
       "1  Советский р-н, Шумяцкого, 7\\nПланировка: новая...  \n",
       "2  Советский р-н, 60 лет Образования СССР, 20\\nПл...  \n",
       "3  Свердловский р-н, Семафорная, 241\\nПланировка:...  \n",
       "4  Свердловский р-н, Южная набережная, 10\\nПланир...  "
      ]
     },
     "execution_count": 5,
     "metadata": {},
     "output_type": "execute_result"
    }
   ],
   "source": [
    "df.head()"
   ]
  },
  {
   "cell_type": "code",
   "execution_count": 6,
   "metadata": {},
   "outputs": [
    {
     "data": {
      "text/plain": [
       "172"
      ]
     },
     "execution_count": 6,
     "metadata": {},
     "output_type": "execute_result"
    }
   ],
   "source": [
    "# Check for duplicate variables\n",
    "df.duplicated().sum()"
   ]
  },
  {
   "cell_type": "code",
   "execution_count": 7,
   "metadata": {},
   "outputs": [],
   "source": [
    "# Remove duplicates\n",
    "df = df.drop_duplicates()"
   ]
  },
  {
   "cell_type": "markdown",
   "metadata": {},
   "source": [
    "### flat type"
   ]
  },
  {
   "cell_type": "code",
   "execution_count": 8,
   "metadata": {},
   "outputs": [],
   "source": [
    "# Delete data with 'NI' - not info values\n",
    "df = df[df.col_room_number != 'NI']"
   ]
  },
  {
   "cell_type": "code",
   "execution_count": 9,
   "metadata": {},
   "outputs": [],
   "source": [
    "# Rename values / Translation\n",
    "df['flat_type']=df['col_room_number'].replace({'1-комн.': '1_room_ap', '2-комн.': '2_room_ap', '3-комн.': '3_room_ap',\n",
    "                 '4-комн.': '4_room_ap', '5-комн.': '5_room_ap', 'Гостин.': 'gostinka_ap',\n",
    "              'Комнат.': 'room', 'Секцио.': 'sectional_ap'})"
   ]
  },
  {
   "cell_type": "markdown",
   "metadata": {},
   "source": [
    "### city area"
   ]
  },
  {
   "cell_type": "code",
   "execution_count": 10,
   "metadata": {},
   "outputs": [],
   "source": [
    "city_area = df['col_region'].apply(lambda x: x.split(',')[0])"
   ]
  },
  {
   "cell_type": "code",
   "execution_count": 11,
   "metadata": {},
   "outputs": [],
   "source": [
    "df['city_area'] = city_area.apply(lambda x: x.replace(' р-н',''))"
   ]
  },
  {
   "cell_type": "code",
   "execution_count": 12,
   "metadata": {},
   "outputs": [],
   "source": [
    "# Delete values that are not related to the area of the city of Krasnoyarsk\n",
    "df = df[df.city_area != 'Краснодарский край ']\n",
    "df = df[df.city_area != 'Дивногорский ']\n",
    "df = df[df.city_area != 'Сосновоборский ']\n",
    "df = df[df.city_area != 'Рыбинский ']\n",
    "df = df[df.city_area != 'Березовский ']\n",
    "df = df[df.city_area != 'Сухобузимский ']\n",
    "df = df[df.city_area != 'Железногорский ']\n",
    "df = df[df.city_area != 'Емельяновский ']"
   ]
  },
  {
   "cell_type": "code",
   "execution_count": 13,
   "metadata": {},
   "outputs": [],
   "source": [
    "# Rename values / Translation\n",
    "df['city_area']=df['city_area'].replace({'Советский': 'Sovietskiy', 'Октябрьский': 'Oktyabrskiy', \n",
    "                                         'Свердловский': 'Sverdlovsky', 'Ленинский': 'Leninsky', \n",
    "                                         'Железнодорожный': 'Zheleznodorozhniy', 'Кировский': 'Kirovsky',\n",
    "                                         'Центральный': 'Central', 'Емельяновский ': 'Emelyanovsky'})"
   ]
  },
  {
   "cell_type": "markdown",
   "metadata": {},
   "source": [
    "###  premises area"
   ]
  },
  {
   "cell_type": "code",
   "execution_count": 14,
   "metadata": {},
   "outputs": [],
   "source": [
    "df['premises_area'] = df['col_area'].apply(lambda x: x.split('м')[0]).astype(float)"
   ]
  },
  {
   "cell_type": "markdown",
   "metadata": {},
   "source": [
    "### floor and total floor"
   ]
  },
  {
   "cell_type": "markdown",
   "metadata": {},
   "source": [
    "We divide the raw col_floor column into two: one of which will be floor, the second total floor in the building."
   ]
  },
  {
   "cell_type": "code",
   "execution_count": 15,
   "metadata": {},
   "outputs": [],
   "source": [
    "df['floor'] = df['col_floor'].apply(lambda x: x.split('эт. из ')[0])"
   ]
  },
  {
   "cell_type": "code",
   "execution_count": 16,
   "metadata": {},
   "outputs": [],
   "source": [
    "# Delete data with empty value\n",
    "df = df[df.floor != '']\n",
    "df['floor'] = df['floor'].astype(int)"
   ]
  },
  {
   "cell_type": "code",
   "execution_count": 17,
   "metadata": {},
   "outputs": [],
   "source": [
    "# Total floors in the building\n",
    "df['floor_tot'] = df['col_floor'].apply(lambda x: x.split('эт. из ')[1]).astype(int)"
   ]
  },
  {
   "cell_type": "markdown",
   "metadata": {},
   "source": [
    "### layout and status of the construction"
   ]
  },
  {
   "cell_type": "markdown",
   "metadata": {},
   "source": [
    "We divide the raw col_layout column into two: one of which will mean the layout, the second the status of the building."
   ]
  },
  {
   "cell_type": "code",
   "execution_count": 18,
   "metadata": {},
   "outputs": [],
   "source": [
    "df['layout'] = df['col_layout'].apply(lambda x: x.split('\\n')[1])"
   ]
  },
  {
   "cell_type": "code",
   "execution_count": 19,
   "metadata": {},
   "outputs": [],
   "source": [
    "# Delete one line in which information about the type of layout is missing\n",
    "df = df[df['layout'] != 'Готовое']"
   ]
  },
  {
   "cell_type": "code",
   "execution_count": 20,
   "metadata": {},
   "outputs": [],
   "source": [
    "df['layout'] = df['layout'].apply(lambda x: x.split('Планировка: ')[1])"
   ]
  },
  {
   "cell_type": "code",
   "execution_count": 21,
   "metadata": {},
   "outputs": [],
   "source": [
    "# Rename values / Translation\n",
    "df['layout']=df['layout'].replace({'новая': 'new', 'студия': 'studio', \n",
    "                                         'индивидуальная': 'individual', 'улучшенная': 'improved', \n",
    "                                         'хрущевка': 'khrushchevka', 'сталинка': 'stalinka',\n",
    "                                         'ленинградка': 'leningradka', 'гостинка': 'gostinka',\n",
    "                                  'комната в общежитии': 'dorm_room', 'секционка': 'section',\n",
    "                                  '2х-уровневая': '2-level', 'комната в квартире': 'room_in_flat',\n",
    "                                  'апартаменты': 'studio'})"
   ]
  },
  {
   "cell_type": "code",
   "execution_count": 22,
   "metadata": {},
   "outputs": [],
   "source": [
    "df['status'] = df['col_layout'].apply(lambda x: x.split('\\n')[2])"
   ]
  },
  {
   "cell_type": "code",
   "execution_count": 23,
   "metadata": {},
   "outputs": [],
   "source": [
    "# Rename values / Translation\n",
    "df['status']=df['status'].replace({'Готовое': 'finished', 'Строится': 'under_construction'})"
   ]
  },
  {
   "cell_type": "markdown",
   "metadata": {},
   "source": [
    "### price"
   ]
  },
  {
   "cell_type": "code",
   "execution_count": 24,
   "metadata": {},
   "outputs": [],
   "source": [
    "df['price'] = df['col_price'].apply(lambda x: x.split('р')[0])"
   ]
  },
  {
   "cell_type": "code",
   "execution_count": 25,
   "metadata": {},
   "outputs": [],
   "source": [
    "# Remove spaces\n",
    "df['price'] = df['price'].apply(lambda x: x.replace(' ','')).astype(int)"
   ]
  },
  {
   "cell_type": "code",
   "execution_count": 26,
   "metadata": {},
   "outputs": [],
   "source": [
    "# Convert to euro\n",
    "df['price'] = df['price']/86"
   ]
  },
  {
   "cell_type": "code",
   "execution_count": 27,
   "metadata": {},
   "outputs": [
    {
     "data": {
      "text/html": [
       "<div>\n",
       "<style scoped>\n",
       "    .dataframe tbody tr th:only-of-type {\n",
       "        vertical-align: middle;\n",
       "    }\n",
       "\n",
       "    .dataframe tbody tr th {\n",
       "        vertical-align: top;\n",
       "    }\n",
       "\n",
       "    .dataframe thead th {\n",
       "        text-align: right;\n",
       "    }\n",
       "</style>\n",
       "<table border=\"1\" class=\"dataframe\">\n",
       "  <thead>\n",
       "    <tr style=\"text-align: right;\">\n",
       "      <th></th>\n",
       "      <th>col_room_number</th>\n",
       "      <th>col_region</th>\n",
       "      <th>col_area</th>\n",
       "      <th>col_price</th>\n",
       "      <th>col_price_sq_m</th>\n",
       "      <th>col_floor</th>\n",
       "      <th>col_layout</th>\n",
       "      <th>flat_type</th>\n",
       "      <th>city_area</th>\n",
       "      <th>premises_area</th>\n",
       "      <th>floor</th>\n",
       "      <th>floor_tot</th>\n",
       "      <th>layout</th>\n",
       "      <th>status</th>\n",
       "      <th>price</th>\n",
       "    </tr>\n",
       "  </thead>\n",
       "  <tbody>\n",
       "    <tr>\n",
       "      <th>1</th>\n",
       "      <td>1-комн.</td>\n",
       "      <td>Советский р-н, Шумяцкого, 7</td>\n",
       "      <td>29.70 м 2</td>\n",
       "      <td>3 340 000 руб.</td>\n",
       "      <td>112 458 руб./м2</td>\n",
       "      <td>1 эт. из 9</td>\n",
       "      <td>Советский р-н, Шумяцкого, 7\\nПланировка: новая...</td>\n",
       "      <td>1_room_ap</td>\n",
       "      <td>Sovietskiy</td>\n",
       "      <td>29.7</td>\n",
       "      <td>1</td>\n",
       "      <td>9</td>\n",
       "      <td>new</td>\n",
       "      <td>finished</td>\n",
       "      <td>38837.209302</td>\n",
       "    </tr>\n",
       "    <tr>\n",
       "      <th>2</th>\n",
       "      <td>3-комн.</td>\n",
       "      <td>Советский р-н, 60 лет Образования СССР, 20</td>\n",
       "      <td>64.10 м 2</td>\n",
       "      <td>6 500 000 руб.</td>\n",
       "      <td>101 404 руб./м2</td>\n",
       "      <td>2 эт. из 9</td>\n",
       "      <td>Советский р-н, 60 лет Образования СССР, 20\\nПл...</td>\n",
       "      <td>3_room_ap</td>\n",
       "      <td>Sovietskiy</td>\n",
       "      <td>64.1</td>\n",
       "      <td>2</td>\n",
       "      <td>9</td>\n",
       "      <td>new</td>\n",
       "      <td>finished</td>\n",
       "      <td>75581.395349</td>\n",
       "    </tr>\n",
       "    <tr>\n",
       "      <th>3</th>\n",
       "      <td>3-комн.</td>\n",
       "      <td>Свердловский р-н, Семафорная, 241</td>\n",
       "      <td>58.40 м 2</td>\n",
       "      <td>4 990 000 руб.</td>\n",
       "      <td>85 445 руб./м2</td>\n",
       "      <td>1 эт. из 5</td>\n",
       "      <td>Свердловский р-н, Семафорная, 241\\nПланировка:...</td>\n",
       "      <td>3_room_ap</td>\n",
       "      <td>Sverdlovsky</td>\n",
       "      <td>58.4</td>\n",
       "      <td>1</td>\n",
       "      <td>5</td>\n",
       "      <td>khrushchevka</td>\n",
       "      <td>finished</td>\n",
       "      <td>58023.255814</td>\n",
       "    </tr>\n",
       "    <tr>\n",
       "      <th>4</th>\n",
       "      <td>3-комн.</td>\n",
       "      <td>Свердловский р-н, Южная набережная, 10</td>\n",
       "      <td>92.30 м 2</td>\n",
       "      <td>12 400 000 руб.</td>\n",
       "      <td>134 345 руб./м2</td>\n",
       "      <td>5 эт. из 6</td>\n",
       "      <td>Свердловский р-н, Южная набережная, 10\\nПланир...</td>\n",
       "      <td>3_room_ap</td>\n",
       "      <td>Sverdlovsky</td>\n",
       "      <td>92.3</td>\n",
       "      <td>5</td>\n",
       "      <td>6</td>\n",
       "      <td>new</td>\n",
       "      <td>finished</td>\n",
       "      <td>144186.046512</td>\n",
       "    </tr>\n",
       "    <tr>\n",
       "      <th>5</th>\n",
       "      <td>2-комн.</td>\n",
       "      <td>Октябрьский р-н, Норильская, 8г</td>\n",
       "      <td>48.00 м 2</td>\n",
       "      <td>4 300 000 руб.</td>\n",
       "      <td>89 583 руб./м2</td>\n",
       "      <td>10 эт. из 17</td>\n",
       "      <td>Октябрьский р-н, Норильская, 8г\\nПланировка: н...</td>\n",
       "      <td>2_room_ap</td>\n",
       "      <td>Oktyabrskiy</td>\n",
       "      <td>48.0</td>\n",
       "      <td>10</td>\n",
       "      <td>17</td>\n",
       "      <td>new</td>\n",
       "      <td>finished</td>\n",
       "      <td>50000.000000</td>\n",
       "    </tr>\n",
       "  </tbody>\n",
       "</table>\n",
       "</div>"
      ],
      "text/plain": [
       "  col_room_number                                  col_region   col_area  \\\n",
       "1         1-комн.                 Советский р-н, Шумяцкого, 7  29.70 м 2   \n",
       "2         3-комн.  Советский р-н, 60 лет Образования СССР, 20  64.10 м 2   \n",
       "3         3-комн.           Свердловский р-н, Семафорная, 241  58.40 м 2   \n",
       "4         3-комн.      Свердловский р-н, Южная набережная, 10  92.30 м 2   \n",
       "5         2-комн.             Октябрьский р-н, Норильская, 8г  48.00 м 2   \n",
       "\n",
       "         col_price   col_price_sq_m     col_floor  \\\n",
       "1   3 340 000 руб.  112 458 руб./м2    1 эт. из 9   \n",
       "2   6 500 000 руб.  101 404 руб./м2    2 эт. из 9   \n",
       "3   4 990 000 руб.   85 445 руб./м2    1 эт. из 5   \n",
       "4  12 400 000 руб.  134 345 руб./м2    5 эт. из 6   \n",
       "5   4 300 000 руб.   89 583 руб./м2  10 эт. из 17   \n",
       "\n",
       "                                          col_layout  flat_type    city_area  \\\n",
       "1  Советский р-н, Шумяцкого, 7\\nПланировка: новая...  1_room_ap   Sovietskiy   \n",
       "2  Советский р-н, 60 лет Образования СССР, 20\\nПл...  3_room_ap   Sovietskiy   \n",
       "3  Свердловский р-н, Семафорная, 241\\nПланировка:...  3_room_ap  Sverdlovsky   \n",
       "4  Свердловский р-н, Южная набережная, 10\\nПланир...  3_room_ap  Sverdlovsky   \n",
       "5  Октябрьский р-н, Норильская, 8г\\nПланировка: н...  2_room_ap  Oktyabrskiy   \n",
       "\n",
       "   premises_area  floor  floor_tot        layout    status          price  \n",
       "1           29.7      1          9           new  finished   38837.209302  \n",
       "2           64.1      2          9           new  finished   75581.395349  \n",
       "3           58.4      1          5  khrushchevka  finished   58023.255814  \n",
       "4           92.3      5          6           new  finished  144186.046512  \n",
       "5           48.0     10         17           new  finished   50000.000000  "
      ]
     },
     "execution_count": 27,
     "metadata": {},
     "output_type": "execute_result"
    }
   ],
   "source": [
    "df.head()"
   ]
  },
  {
   "cell_type": "code",
   "execution_count": 28,
   "metadata": {},
   "outputs": [
    {
     "name": "stdout",
     "output_type": "stream",
     "text": [
      "<class 'pandas.core.frame.DataFrame'>\n",
      "Int64Index: 2207 entries, 1 to 2415\n",
      "Data columns (total 15 columns):\n",
      " #   Column           Non-Null Count  Dtype  \n",
      "---  ------           --------------  -----  \n",
      " 0   col_room_number  2207 non-null   object \n",
      " 1   col_region       2207 non-null   object \n",
      " 2   col_area         2207 non-null   object \n",
      " 3   col_price        2207 non-null   object \n",
      " 4   col_price_sq_m   2207 non-null   object \n",
      " 5   col_floor        2207 non-null   object \n",
      " 6   col_layout       2207 non-null   object \n",
      " 7   flat_type        2207 non-null   object \n",
      " 8   city_area        2207 non-null   object \n",
      " 9   premises_area    2207 non-null   float64\n",
      " 10  floor            2207 non-null   int64  \n",
      " 11  floor_tot        2207 non-null   int64  \n",
      " 12  layout           2207 non-null   object \n",
      " 13  status           2207 non-null   object \n",
      " 14  price            2207 non-null   float64\n",
      "dtypes: float64(2), int64(2), object(11)\n",
      "memory usage: 275.9+ KB\n"
     ]
    }
   ],
   "source": [
    "df.info()"
   ]
  },
  {
   "cell_type": "code",
   "execution_count": 29,
   "metadata": {},
   "outputs": [],
   "source": [
    "df_save = df[['flat_type', 'city_area', 'premises_area', 'floor', 'floor_tot', 'layout', 'status', 'price']]"
   ]
  },
  {
   "cell_type": "code",
   "execution_count": 30,
   "metadata": {},
   "outputs": [],
   "source": [
    "# save results to csv\n",
    "df_save.to_csv(\"flats_info_cleaned.csv\", index=False)"
   ]
  }
 ],
 "metadata": {
  "kernelspec": {
   "display_name": "Python 3 (ipykernel)",
   "language": "python",
   "name": "python3"
  },
  "language_info": {
   "codemirror_mode": {
    "name": "ipython",
    "version": 3
   },
   "file_extension": ".py",
   "mimetype": "text/x-python",
   "name": "python",
   "nbconvert_exporter": "python",
   "pygments_lexer": "ipython3",
   "version": "3.9.13"
  }
 },
 "nbformat": 4,
 "nbformat_minor": 4
}
